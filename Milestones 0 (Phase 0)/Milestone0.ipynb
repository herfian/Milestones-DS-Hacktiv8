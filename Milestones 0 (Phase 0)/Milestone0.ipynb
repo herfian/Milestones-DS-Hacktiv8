{
  "nbformat": 4,
  "nbformat_minor": 0,
  "metadata": {
    "colab": {
      "name": "Milestone0.ipynb",
      "provenance": [],
      "collapsed_sections": []
    },
    "kernelspec": {
      "name": "python3",
      "display_name": "Python 3"
    },
    "language_info": {
      "name": "python"
    }
  },
  "cells": [
    {
      "cell_type": "markdown",
      "metadata": {
        "id": "raS5BQh3oLVp"
      },
      "source": [
        "##**MILESTONE :**\n",
        "\n",
        "By : Muhammad Rizki Herfian"
      ]
    },
    {
      "cell_type": "markdown",
      "metadata": {
        "id": "tzBD49Q_YGFH"
      },
      "source": [
        "#**IMPORT LIBRARY :**"
      ]
    },
    {
      "cell_type": "code",
      "metadata": {
        "id": "vQY3dJc-QoWQ"
      },
      "source": [
        "import pandas as pd\n",
        "import numpy as np\n",
        "import matplotlib.pyplot as plt\n",
        "import seaborn as sns\n",
        "import scipy.stats as stats\n",
        "from scipy.stats import norm\n",
        "from scipy.stats import kurtosis\n",
        "from numpy import percentile\n",
        "import calendar"
      ],
      "execution_count": 1,
      "outputs": []
    },
    {
      "cell_type": "markdown",
      "metadata": {
        "id": "qTx_lEofYOEt"
      },
      "source": [
        "#**DATA LOADING :**"
      ]
    },
    {
      "cell_type": "code",
      "metadata": {
        "id": "JUsVQ3WKQvsE"
      },
      "source": [
        "data = pd.read_csv('supermarket_sales - Sheet1.csv')"
      ],
      "execution_count": 2,
      "outputs": []
    },
    {
      "cell_type": "code",
      "metadata": {
        "colab": {
          "base_uri": "https://localhost:8080/"
        },
        "id": "bKwFyubrnbg3",
        "outputId": "11bedca3-6a97-4c0f-e8b7-e5e3ad77d3a6"
      },
      "source": [
        "data.shape"
      ],
      "execution_count": 3,
      "outputs": [
        {
          "output_type": "execute_result",
          "data": {
            "text/plain": [
              "(1000, 17)"
            ]
          },
          "metadata": {},
          "execution_count": 3
        }
      ]
    },
    {
      "cell_type": "markdown",
      "metadata": {
        "id": "MWT2Yi2IYYQn"
      },
      "source": [
        "#**EXPLORASI DATA :**"
      ]
    },
    {
      "cell_type": "code",
      "metadata": {
        "colab": {
          "base_uri": "https://localhost:8080/",
          "height": 445
        },
        "id": "QUVEPlPqneLy",
        "outputId": "cfcbec63-f22d-4f94-dd9f-a247ef8bb36a"
      },
      "source": [
        "data.head(7)"
      ],
      "execution_count": 4,
      "outputs": [
        {
          "output_type": "execute_result",
          "data": {
            "text/html": [
              "<div>\n",
              "<style scoped>\n",
              "    .dataframe tbody tr th:only-of-type {\n",
              "        vertical-align: middle;\n",
              "    }\n",
              "\n",
              "    .dataframe tbody tr th {\n",
              "        vertical-align: top;\n",
              "    }\n",
              "\n",
              "    .dataframe thead th {\n",
              "        text-align: right;\n",
              "    }\n",
              "</style>\n",
              "<table border=\"1\" class=\"dataframe\">\n",
              "  <thead>\n",
              "    <tr style=\"text-align: right;\">\n",
              "      <th></th>\n",
              "      <th>Invoice ID</th>\n",
              "      <th>Branch</th>\n",
              "      <th>City</th>\n",
              "      <th>Customer type</th>\n",
              "      <th>Gender</th>\n",
              "      <th>Product line</th>\n",
              "      <th>Unit price</th>\n",
              "      <th>Quantity</th>\n",
              "      <th>Tax 5%</th>\n",
              "      <th>Total</th>\n",
              "      <th>Date</th>\n",
              "      <th>Time</th>\n",
              "      <th>Payment</th>\n",
              "      <th>cogs</th>\n",
              "      <th>gross margin percentage</th>\n",
              "      <th>gross income</th>\n",
              "      <th>Rating</th>\n",
              "    </tr>\n",
              "  </thead>\n",
              "  <tbody>\n",
              "    <tr>\n",
              "      <th>0</th>\n",
              "      <td>750-67-8428</td>\n",
              "      <td>A</td>\n",
              "      <td>Yangon</td>\n",
              "      <td>Member</td>\n",
              "      <td>Female</td>\n",
              "      <td>Health and beauty</td>\n",
              "      <td>74.69</td>\n",
              "      <td>7</td>\n",
              "      <td>26.1415</td>\n",
              "      <td>548.9715</td>\n",
              "      <td>1/5/2019</td>\n",
              "      <td>13:08</td>\n",
              "      <td>Ewallet</td>\n",
              "      <td>522.83</td>\n",
              "      <td>4.761905</td>\n",
              "      <td>26.1415</td>\n",
              "      <td>9.1</td>\n",
              "    </tr>\n",
              "    <tr>\n",
              "      <th>1</th>\n",
              "      <td>226-31-3081</td>\n",
              "      <td>C</td>\n",
              "      <td>Naypyitaw</td>\n",
              "      <td>Normal</td>\n",
              "      <td>Female</td>\n",
              "      <td>Electronic accessories</td>\n",
              "      <td>15.28</td>\n",
              "      <td>5</td>\n",
              "      <td>3.8200</td>\n",
              "      <td>80.2200</td>\n",
              "      <td>3/8/2019</td>\n",
              "      <td>10:29</td>\n",
              "      <td>Cash</td>\n",
              "      <td>76.40</td>\n",
              "      <td>4.761905</td>\n",
              "      <td>3.8200</td>\n",
              "      <td>9.6</td>\n",
              "    </tr>\n",
              "    <tr>\n",
              "      <th>2</th>\n",
              "      <td>631-41-3108</td>\n",
              "      <td>A</td>\n",
              "      <td>Yangon</td>\n",
              "      <td>Normal</td>\n",
              "      <td>Male</td>\n",
              "      <td>Home and lifestyle</td>\n",
              "      <td>46.33</td>\n",
              "      <td>7</td>\n",
              "      <td>16.2155</td>\n",
              "      <td>340.5255</td>\n",
              "      <td>3/3/2019</td>\n",
              "      <td>13:23</td>\n",
              "      <td>Credit card</td>\n",
              "      <td>324.31</td>\n",
              "      <td>4.761905</td>\n",
              "      <td>16.2155</td>\n",
              "      <td>7.4</td>\n",
              "    </tr>\n",
              "    <tr>\n",
              "      <th>3</th>\n",
              "      <td>123-19-1176</td>\n",
              "      <td>A</td>\n",
              "      <td>Yangon</td>\n",
              "      <td>Member</td>\n",
              "      <td>Male</td>\n",
              "      <td>Health and beauty</td>\n",
              "      <td>58.22</td>\n",
              "      <td>8</td>\n",
              "      <td>23.2880</td>\n",
              "      <td>489.0480</td>\n",
              "      <td>1/27/2019</td>\n",
              "      <td>20:33</td>\n",
              "      <td>Ewallet</td>\n",
              "      <td>465.76</td>\n",
              "      <td>4.761905</td>\n",
              "      <td>23.2880</td>\n",
              "      <td>8.4</td>\n",
              "    </tr>\n",
              "    <tr>\n",
              "      <th>4</th>\n",
              "      <td>373-73-7910</td>\n",
              "      <td>A</td>\n",
              "      <td>Yangon</td>\n",
              "      <td>Normal</td>\n",
              "      <td>Male</td>\n",
              "      <td>Sports and travel</td>\n",
              "      <td>86.31</td>\n",
              "      <td>7</td>\n",
              "      <td>30.2085</td>\n",
              "      <td>634.3785</td>\n",
              "      <td>2/8/2019</td>\n",
              "      <td>10:37</td>\n",
              "      <td>Ewallet</td>\n",
              "      <td>604.17</td>\n",
              "      <td>4.761905</td>\n",
              "      <td>30.2085</td>\n",
              "      <td>5.3</td>\n",
              "    </tr>\n",
              "    <tr>\n",
              "      <th>5</th>\n",
              "      <td>699-14-3026</td>\n",
              "      <td>C</td>\n",
              "      <td>Naypyitaw</td>\n",
              "      <td>Normal</td>\n",
              "      <td>Male</td>\n",
              "      <td>Electronic accessories</td>\n",
              "      <td>85.39</td>\n",
              "      <td>7</td>\n",
              "      <td>29.8865</td>\n",
              "      <td>627.6165</td>\n",
              "      <td>3/25/2019</td>\n",
              "      <td>18:30</td>\n",
              "      <td>Ewallet</td>\n",
              "      <td>597.73</td>\n",
              "      <td>4.761905</td>\n",
              "      <td>29.8865</td>\n",
              "      <td>4.1</td>\n",
              "    </tr>\n",
              "    <tr>\n",
              "      <th>6</th>\n",
              "      <td>355-53-5943</td>\n",
              "      <td>A</td>\n",
              "      <td>Yangon</td>\n",
              "      <td>Member</td>\n",
              "      <td>Female</td>\n",
              "      <td>Electronic accessories</td>\n",
              "      <td>68.84</td>\n",
              "      <td>6</td>\n",
              "      <td>20.6520</td>\n",
              "      <td>433.6920</td>\n",
              "      <td>2/25/2019</td>\n",
              "      <td>14:36</td>\n",
              "      <td>Ewallet</td>\n",
              "      <td>413.04</td>\n",
              "      <td>4.761905</td>\n",
              "      <td>20.6520</td>\n",
              "      <td>5.8</td>\n",
              "    </tr>\n",
              "  </tbody>\n",
              "</table>\n",
              "</div>"
            ],
            "text/plain": [
              "    Invoice ID Branch       City  ... gross margin percentage gross income Rating\n",
              "0  750-67-8428      A     Yangon  ...                4.761905      26.1415    9.1\n",
              "1  226-31-3081      C  Naypyitaw  ...                4.761905       3.8200    9.6\n",
              "2  631-41-3108      A     Yangon  ...                4.761905      16.2155    7.4\n",
              "3  123-19-1176      A     Yangon  ...                4.761905      23.2880    8.4\n",
              "4  373-73-7910      A     Yangon  ...                4.761905      30.2085    5.3\n",
              "5  699-14-3026      C  Naypyitaw  ...                4.761905      29.8865    4.1\n",
              "6  355-53-5943      A     Yangon  ...                4.761905      20.6520    5.8\n",
              "\n",
              "[7 rows x 17 columns]"
            ]
          },
          "metadata": {},
          "execution_count": 4
        }
      ]
    },
    {
      "cell_type": "code",
      "metadata": {
        "colab": {
          "base_uri": "https://localhost:8080/"
        },
        "id": "G5uGRzKinj9r",
        "outputId": "bba1b9e1-2c6f-4166-87a5-f578011f8a35"
      },
      "source": [
        "data.info()"
      ],
      "execution_count": 5,
      "outputs": [
        {
          "output_type": "stream",
          "name": "stdout",
          "text": [
            "<class 'pandas.core.frame.DataFrame'>\n",
            "RangeIndex: 1000 entries, 0 to 999\n",
            "Data columns (total 17 columns):\n",
            " #   Column                   Non-Null Count  Dtype  \n",
            "---  ------                   --------------  -----  \n",
            " 0   Invoice ID               1000 non-null   object \n",
            " 1   Branch                   1000 non-null   object \n",
            " 2   City                     1000 non-null   object \n",
            " 3   Customer type            1000 non-null   object \n",
            " 4   Gender                   1000 non-null   object \n",
            " 5   Product line             1000 non-null   object \n",
            " 6   Unit price               1000 non-null   float64\n",
            " 7   Quantity                 1000 non-null   int64  \n",
            " 8   Tax 5%                   1000 non-null   float64\n",
            " 9   Total                    1000 non-null   float64\n",
            " 10  Date                     1000 non-null   object \n",
            " 11  Time                     1000 non-null   object \n",
            " 12  Payment                  1000 non-null   object \n",
            " 13  cogs                     1000 non-null   float64\n",
            " 14  gross margin percentage  1000 non-null   float64\n",
            " 15  gross income             1000 non-null   float64\n",
            " 16  Rating                   1000 non-null   float64\n",
            "dtypes: float64(7), int64(1), object(9)\n",
            "memory usage: 132.9+ KB\n"
          ]
        }
      ]
    },
    {
      "cell_type": "code",
      "metadata": {
        "colab": {
          "base_uri": "https://localhost:8080/"
        },
        "id": "xY76hw6Inmko",
        "outputId": "4c87296b-2c10-4bb4-a352-8f1ed6ee651c"
      },
      "source": [
        "data.isna().sum()"
      ],
      "execution_count": 6,
      "outputs": [
        {
          "output_type": "execute_result",
          "data": {
            "text/plain": [
              "Invoice ID                 0\n",
              "Branch                     0\n",
              "City                       0\n",
              "Customer type              0\n",
              "Gender                     0\n",
              "Product line               0\n",
              "Unit price                 0\n",
              "Quantity                   0\n",
              "Tax 5%                     0\n",
              "Total                      0\n",
              "Date                       0\n",
              "Time                       0\n",
              "Payment                    0\n",
              "cogs                       0\n",
              "gross margin percentage    0\n",
              "gross income               0\n",
              "Rating                     0\n",
              "dtype: int64"
            ]
          },
          "metadata": {},
          "execution_count": 6
        }
      ]
    },
    {
      "cell_type": "code",
      "metadata": {
        "colab": {
          "base_uri": "https://localhost:8080/",
          "height": 300
        },
        "id": "rlGiYtEpnsXU",
        "outputId": "8490560f-7f44-4b78-ca4e-7d0c2bac4b8a"
      },
      "source": [
        "data.describe()"
      ],
      "execution_count": 7,
      "outputs": [
        {
          "output_type": "execute_result",
          "data": {
            "text/html": [
              "<div>\n",
              "<style scoped>\n",
              "    .dataframe tbody tr th:only-of-type {\n",
              "        vertical-align: middle;\n",
              "    }\n",
              "\n",
              "    .dataframe tbody tr th {\n",
              "        vertical-align: top;\n",
              "    }\n",
              "\n",
              "    .dataframe thead th {\n",
              "        text-align: right;\n",
              "    }\n",
              "</style>\n",
              "<table border=\"1\" class=\"dataframe\">\n",
              "  <thead>\n",
              "    <tr style=\"text-align: right;\">\n",
              "      <th></th>\n",
              "      <th>Unit price</th>\n",
              "      <th>Quantity</th>\n",
              "      <th>Tax 5%</th>\n",
              "      <th>Total</th>\n",
              "      <th>cogs</th>\n",
              "      <th>gross margin percentage</th>\n",
              "      <th>gross income</th>\n",
              "      <th>Rating</th>\n",
              "    </tr>\n",
              "  </thead>\n",
              "  <tbody>\n",
              "    <tr>\n",
              "      <th>count</th>\n",
              "      <td>1000.000000</td>\n",
              "      <td>1000.000000</td>\n",
              "      <td>1000.000000</td>\n",
              "      <td>1000.000000</td>\n",
              "      <td>1000.00000</td>\n",
              "      <td>1.000000e+03</td>\n",
              "      <td>1000.000000</td>\n",
              "      <td>1000.00000</td>\n",
              "    </tr>\n",
              "    <tr>\n",
              "      <th>mean</th>\n",
              "      <td>55.672130</td>\n",
              "      <td>5.510000</td>\n",
              "      <td>15.379369</td>\n",
              "      <td>322.966749</td>\n",
              "      <td>307.58738</td>\n",
              "      <td>4.761905e+00</td>\n",
              "      <td>15.379369</td>\n",
              "      <td>6.97270</td>\n",
              "    </tr>\n",
              "    <tr>\n",
              "      <th>std</th>\n",
              "      <td>26.494628</td>\n",
              "      <td>2.923431</td>\n",
              "      <td>11.708825</td>\n",
              "      <td>245.885335</td>\n",
              "      <td>234.17651</td>\n",
              "      <td>6.220360e-14</td>\n",
              "      <td>11.708825</td>\n",
              "      <td>1.71858</td>\n",
              "    </tr>\n",
              "    <tr>\n",
              "      <th>min</th>\n",
              "      <td>10.080000</td>\n",
              "      <td>1.000000</td>\n",
              "      <td>0.508500</td>\n",
              "      <td>10.678500</td>\n",
              "      <td>10.17000</td>\n",
              "      <td>4.761905e+00</td>\n",
              "      <td>0.508500</td>\n",
              "      <td>4.00000</td>\n",
              "    </tr>\n",
              "    <tr>\n",
              "      <th>25%</th>\n",
              "      <td>32.875000</td>\n",
              "      <td>3.000000</td>\n",
              "      <td>5.924875</td>\n",
              "      <td>124.422375</td>\n",
              "      <td>118.49750</td>\n",
              "      <td>4.761905e+00</td>\n",
              "      <td>5.924875</td>\n",
              "      <td>5.50000</td>\n",
              "    </tr>\n",
              "    <tr>\n",
              "      <th>50%</th>\n",
              "      <td>55.230000</td>\n",
              "      <td>5.000000</td>\n",
              "      <td>12.088000</td>\n",
              "      <td>253.848000</td>\n",
              "      <td>241.76000</td>\n",
              "      <td>4.761905e+00</td>\n",
              "      <td>12.088000</td>\n",
              "      <td>7.00000</td>\n",
              "    </tr>\n",
              "    <tr>\n",
              "      <th>75%</th>\n",
              "      <td>77.935000</td>\n",
              "      <td>8.000000</td>\n",
              "      <td>22.445250</td>\n",
              "      <td>471.350250</td>\n",
              "      <td>448.90500</td>\n",
              "      <td>4.761905e+00</td>\n",
              "      <td>22.445250</td>\n",
              "      <td>8.50000</td>\n",
              "    </tr>\n",
              "    <tr>\n",
              "      <th>max</th>\n",
              "      <td>99.960000</td>\n",
              "      <td>10.000000</td>\n",
              "      <td>49.650000</td>\n",
              "      <td>1042.650000</td>\n",
              "      <td>993.00000</td>\n",
              "      <td>4.761905e+00</td>\n",
              "      <td>49.650000</td>\n",
              "      <td>10.00000</td>\n",
              "    </tr>\n",
              "  </tbody>\n",
              "</table>\n",
              "</div>"
            ],
            "text/plain": [
              "        Unit price     Quantity  ...  gross income      Rating\n",
              "count  1000.000000  1000.000000  ...   1000.000000  1000.00000\n",
              "mean     55.672130     5.510000  ...     15.379369     6.97270\n",
              "std      26.494628     2.923431  ...     11.708825     1.71858\n",
              "min      10.080000     1.000000  ...      0.508500     4.00000\n",
              "25%      32.875000     3.000000  ...      5.924875     5.50000\n",
              "50%      55.230000     5.000000  ...     12.088000     7.00000\n",
              "75%      77.935000     8.000000  ...     22.445250     8.50000\n",
              "max      99.960000    10.000000  ...     49.650000    10.00000\n",
              "\n",
              "[8 rows x 8 columns]"
            ]
          },
          "metadata": {},
          "execution_count": 7
        }
      ]
    },
    {
      "cell_type": "code",
      "metadata": {
        "colab": {
          "base_uri": "https://localhost:8080/",
          "height": 331
        },
        "id": "F829EQRUX_8d",
        "outputId": "742a302e-31d9-4999-ac45-b9d7050aac77"
      },
      "source": [
        "data.select_dtypes(\"object\").describe().T"
      ],
      "execution_count": 8,
      "outputs": [
        {
          "output_type": "execute_result",
          "data": {
            "text/html": [
              "<div>\n",
              "<style scoped>\n",
              "    .dataframe tbody tr th:only-of-type {\n",
              "        vertical-align: middle;\n",
              "    }\n",
              "\n",
              "    .dataframe tbody tr th {\n",
              "        vertical-align: top;\n",
              "    }\n",
              "\n",
              "    .dataframe thead th {\n",
              "        text-align: right;\n",
              "    }\n",
              "</style>\n",
              "<table border=\"1\" class=\"dataframe\">\n",
              "  <thead>\n",
              "    <tr style=\"text-align: right;\">\n",
              "      <th></th>\n",
              "      <th>count</th>\n",
              "      <th>unique</th>\n",
              "      <th>top</th>\n",
              "      <th>freq</th>\n",
              "    </tr>\n",
              "  </thead>\n",
              "  <tbody>\n",
              "    <tr>\n",
              "      <th>Invoice ID</th>\n",
              "      <td>1000</td>\n",
              "      <td>1000</td>\n",
              "      <td>488-25-4221</td>\n",
              "      <td>1</td>\n",
              "    </tr>\n",
              "    <tr>\n",
              "      <th>Branch</th>\n",
              "      <td>1000</td>\n",
              "      <td>3</td>\n",
              "      <td>A</td>\n",
              "      <td>340</td>\n",
              "    </tr>\n",
              "    <tr>\n",
              "      <th>City</th>\n",
              "      <td>1000</td>\n",
              "      <td>3</td>\n",
              "      <td>Yangon</td>\n",
              "      <td>340</td>\n",
              "    </tr>\n",
              "    <tr>\n",
              "      <th>Customer type</th>\n",
              "      <td>1000</td>\n",
              "      <td>2</td>\n",
              "      <td>Member</td>\n",
              "      <td>501</td>\n",
              "    </tr>\n",
              "    <tr>\n",
              "      <th>Gender</th>\n",
              "      <td>1000</td>\n",
              "      <td>2</td>\n",
              "      <td>Female</td>\n",
              "      <td>501</td>\n",
              "    </tr>\n",
              "    <tr>\n",
              "      <th>Product line</th>\n",
              "      <td>1000</td>\n",
              "      <td>6</td>\n",
              "      <td>Fashion accessories</td>\n",
              "      <td>178</td>\n",
              "    </tr>\n",
              "    <tr>\n",
              "      <th>Date</th>\n",
              "      <td>1000</td>\n",
              "      <td>89</td>\n",
              "      <td>2/7/2019</td>\n",
              "      <td>20</td>\n",
              "    </tr>\n",
              "    <tr>\n",
              "      <th>Time</th>\n",
              "      <td>1000</td>\n",
              "      <td>506</td>\n",
              "      <td>14:42</td>\n",
              "      <td>7</td>\n",
              "    </tr>\n",
              "    <tr>\n",
              "      <th>Payment</th>\n",
              "      <td>1000</td>\n",
              "      <td>3</td>\n",
              "      <td>Ewallet</td>\n",
              "      <td>345</td>\n",
              "    </tr>\n",
              "  </tbody>\n",
              "</table>\n",
              "</div>"
            ],
            "text/plain": [
              "              count unique                  top freq\n",
              "Invoice ID     1000   1000          488-25-4221    1\n",
              "Branch         1000      3                    A  340\n",
              "City           1000      3               Yangon  340\n",
              "Customer type  1000      2               Member  501\n",
              "Gender         1000      2               Female  501\n",
              "Product line   1000      6  Fashion accessories  178\n",
              "Date           1000     89             2/7/2019   20\n",
              "Time           1000    506                14:42    7\n",
              "Payment        1000      3              Ewallet  345"
            ]
          },
          "metadata": {},
          "execution_count": 8
        }
      ]
    },
    {
      "cell_type": "code",
      "metadata": {
        "colab": {
          "base_uri": "https://localhost:8080/",
          "height": 300
        },
        "id": "uNhataFHYCch",
        "outputId": "cc65d67f-2d3d-43b8-8a4c-e28114298cba"
      },
      "source": [
        "data.select_dtypes(\"number\").describe().T"
      ],
      "execution_count": 9,
      "outputs": [
        {
          "output_type": "execute_result",
          "data": {
            "text/html": [
              "<div>\n",
              "<style scoped>\n",
              "    .dataframe tbody tr th:only-of-type {\n",
              "        vertical-align: middle;\n",
              "    }\n",
              "\n",
              "    .dataframe tbody tr th {\n",
              "        vertical-align: top;\n",
              "    }\n",
              "\n",
              "    .dataframe thead th {\n",
              "        text-align: right;\n",
              "    }\n",
              "</style>\n",
              "<table border=\"1\" class=\"dataframe\">\n",
              "  <thead>\n",
              "    <tr style=\"text-align: right;\">\n",
              "      <th></th>\n",
              "      <th>count</th>\n",
              "      <th>mean</th>\n",
              "      <th>std</th>\n",
              "      <th>min</th>\n",
              "      <th>25%</th>\n",
              "      <th>50%</th>\n",
              "      <th>75%</th>\n",
              "      <th>max</th>\n",
              "    </tr>\n",
              "  </thead>\n",
              "  <tbody>\n",
              "    <tr>\n",
              "      <th>Unit price</th>\n",
              "      <td>1000.0</td>\n",
              "      <td>55.672130</td>\n",
              "      <td>2.649463e+01</td>\n",
              "      <td>10.080000</td>\n",
              "      <td>32.875000</td>\n",
              "      <td>55.230000</td>\n",
              "      <td>77.935000</td>\n",
              "      <td>99.960000</td>\n",
              "    </tr>\n",
              "    <tr>\n",
              "      <th>Quantity</th>\n",
              "      <td>1000.0</td>\n",
              "      <td>5.510000</td>\n",
              "      <td>2.923431e+00</td>\n",
              "      <td>1.000000</td>\n",
              "      <td>3.000000</td>\n",
              "      <td>5.000000</td>\n",
              "      <td>8.000000</td>\n",
              "      <td>10.000000</td>\n",
              "    </tr>\n",
              "    <tr>\n",
              "      <th>Tax 5%</th>\n",
              "      <td>1000.0</td>\n",
              "      <td>15.379369</td>\n",
              "      <td>1.170883e+01</td>\n",
              "      <td>0.508500</td>\n",
              "      <td>5.924875</td>\n",
              "      <td>12.088000</td>\n",
              "      <td>22.445250</td>\n",
              "      <td>49.650000</td>\n",
              "    </tr>\n",
              "    <tr>\n",
              "      <th>Total</th>\n",
              "      <td>1000.0</td>\n",
              "      <td>322.966749</td>\n",
              "      <td>2.458853e+02</td>\n",
              "      <td>10.678500</td>\n",
              "      <td>124.422375</td>\n",
              "      <td>253.848000</td>\n",
              "      <td>471.350250</td>\n",
              "      <td>1042.650000</td>\n",
              "    </tr>\n",
              "    <tr>\n",
              "      <th>cogs</th>\n",
              "      <td>1000.0</td>\n",
              "      <td>307.587380</td>\n",
              "      <td>2.341765e+02</td>\n",
              "      <td>10.170000</td>\n",
              "      <td>118.497500</td>\n",
              "      <td>241.760000</td>\n",
              "      <td>448.905000</td>\n",
              "      <td>993.000000</td>\n",
              "    </tr>\n",
              "    <tr>\n",
              "      <th>gross margin percentage</th>\n",
              "      <td>1000.0</td>\n",
              "      <td>4.761905</td>\n",
              "      <td>6.220360e-14</td>\n",
              "      <td>4.761905</td>\n",
              "      <td>4.761905</td>\n",
              "      <td>4.761905</td>\n",
              "      <td>4.761905</td>\n",
              "      <td>4.761905</td>\n",
              "    </tr>\n",
              "    <tr>\n",
              "      <th>gross income</th>\n",
              "      <td>1000.0</td>\n",
              "      <td>15.379369</td>\n",
              "      <td>1.170883e+01</td>\n",
              "      <td>0.508500</td>\n",
              "      <td>5.924875</td>\n",
              "      <td>12.088000</td>\n",
              "      <td>22.445250</td>\n",
              "      <td>49.650000</td>\n",
              "    </tr>\n",
              "    <tr>\n",
              "      <th>Rating</th>\n",
              "      <td>1000.0</td>\n",
              "      <td>6.972700</td>\n",
              "      <td>1.718580e+00</td>\n",
              "      <td>4.000000</td>\n",
              "      <td>5.500000</td>\n",
              "      <td>7.000000</td>\n",
              "      <td>8.500000</td>\n",
              "      <td>10.000000</td>\n",
              "    </tr>\n",
              "  </tbody>\n",
              "</table>\n",
              "</div>"
            ],
            "text/plain": [
              "                          count        mean  ...         75%          max\n",
              "Unit price               1000.0   55.672130  ...   77.935000    99.960000\n",
              "Quantity                 1000.0    5.510000  ...    8.000000    10.000000\n",
              "Tax 5%                   1000.0   15.379369  ...   22.445250    49.650000\n",
              "Total                    1000.0  322.966749  ...  471.350250  1042.650000\n",
              "cogs                     1000.0  307.587380  ...  448.905000   993.000000\n",
              "gross margin percentage  1000.0    4.761905  ...    4.761905     4.761905\n",
              "gross income             1000.0   15.379369  ...   22.445250    49.650000\n",
              "Rating                   1000.0    6.972700  ...    8.500000    10.000000\n",
              "\n",
              "[8 rows x 8 columns]"
            ]
          },
          "metadata": {},
          "execution_count": 9
        }
      ]
    },
    {
      "cell_type": "markdown",
      "metadata": {
        "id": "g3udwNBHoGk5"
      },
      "source": [
        "##**DATA CLEANING :**"
      ]
    },
    {
      "cell_type": "code",
      "metadata": {
        "colab": {
          "base_uri": "https://localhost:8080/",
          "height": 347
        },
        "id": "Ke01eyQnojfN",
        "outputId": "e57360e1-bae0-4d0a-d641-a9dcb7163424"
      },
      "source": [
        "dtc =  data.copy()\n",
        "dtc.head()"
      ],
      "execution_count": 10,
      "outputs": [
        {
          "output_type": "execute_result",
          "data": {
            "text/html": [
              "<div>\n",
              "<style scoped>\n",
              "    .dataframe tbody tr th:only-of-type {\n",
              "        vertical-align: middle;\n",
              "    }\n",
              "\n",
              "    .dataframe tbody tr th {\n",
              "        vertical-align: top;\n",
              "    }\n",
              "\n",
              "    .dataframe thead th {\n",
              "        text-align: right;\n",
              "    }\n",
              "</style>\n",
              "<table border=\"1\" class=\"dataframe\">\n",
              "  <thead>\n",
              "    <tr style=\"text-align: right;\">\n",
              "      <th></th>\n",
              "      <th>Invoice ID</th>\n",
              "      <th>Branch</th>\n",
              "      <th>City</th>\n",
              "      <th>Customer type</th>\n",
              "      <th>Gender</th>\n",
              "      <th>Product line</th>\n",
              "      <th>Unit price</th>\n",
              "      <th>Quantity</th>\n",
              "      <th>Tax 5%</th>\n",
              "      <th>Total</th>\n",
              "      <th>Date</th>\n",
              "      <th>Time</th>\n",
              "      <th>Payment</th>\n",
              "      <th>cogs</th>\n",
              "      <th>gross margin percentage</th>\n",
              "      <th>gross income</th>\n",
              "      <th>Rating</th>\n",
              "    </tr>\n",
              "  </thead>\n",
              "  <tbody>\n",
              "    <tr>\n",
              "      <th>0</th>\n",
              "      <td>750-67-8428</td>\n",
              "      <td>A</td>\n",
              "      <td>Yangon</td>\n",
              "      <td>Member</td>\n",
              "      <td>Female</td>\n",
              "      <td>Health and beauty</td>\n",
              "      <td>74.69</td>\n",
              "      <td>7</td>\n",
              "      <td>26.1415</td>\n",
              "      <td>548.9715</td>\n",
              "      <td>1/5/2019</td>\n",
              "      <td>13:08</td>\n",
              "      <td>Ewallet</td>\n",
              "      <td>522.83</td>\n",
              "      <td>4.761905</td>\n",
              "      <td>26.1415</td>\n",
              "      <td>9.1</td>\n",
              "    </tr>\n",
              "    <tr>\n",
              "      <th>1</th>\n",
              "      <td>226-31-3081</td>\n",
              "      <td>C</td>\n",
              "      <td>Naypyitaw</td>\n",
              "      <td>Normal</td>\n",
              "      <td>Female</td>\n",
              "      <td>Electronic accessories</td>\n",
              "      <td>15.28</td>\n",
              "      <td>5</td>\n",
              "      <td>3.8200</td>\n",
              "      <td>80.2200</td>\n",
              "      <td>3/8/2019</td>\n",
              "      <td>10:29</td>\n",
              "      <td>Cash</td>\n",
              "      <td>76.40</td>\n",
              "      <td>4.761905</td>\n",
              "      <td>3.8200</td>\n",
              "      <td>9.6</td>\n",
              "    </tr>\n",
              "    <tr>\n",
              "      <th>2</th>\n",
              "      <td>631-41-3108</td>\n",
              "      <td>A</td>\n",
              "      <td>Yangon</td>\n",
              "      <td>Normal</td>\n",
              "      <td>Male</td>\n",
              "      <td>Home and lifestyle</td>\n",
              "      <td>46.33</td>\n",
              "      <td>7</td>\n",
              "      <td>16.2155</td>\n",
              "      <td>340.5255</td>\n",
              "      <td>3/3/2019</td>\n",
              "      <td>13:23</td>\n",
              "      <td>Credit card</td>\n",
              "      <td>324.31</td>\n",
              "      <td>4.761905</td>\n",
              "      <td>16.2155</td>\n",
              "      <td>7.4</td>\n",
              "    </tr>\n",
              "    <tr>\n",
              "      <th>3</th>\n",
              "      <td>123-19-1176</td>\n",
              "      <td>A</td>\n",
              "      <td>Yangon</td>\n",
              "      <td>Member</td>\n",
              "      <td>Male</td>\n",
              "      <td>Health and beauty</td>\n",
              "      <td>58.22</td>\n",
              "      <td>8</td>\n",
              "      <td>23.2880</td>\n",
              "      <td>489.0480</td>\n",
              "      <td>1/27/2019</td>\n",
              "      <td>20:33</td>\n",
              "      <td>Ewallet</td>\n",
              "      <td>465.76</td>\n",
              "      <td>4.761905</td>\n",
              "      <td>23.2880</td>\n",
              "      <td>8.4</td>\n",
              "    </tr>\n",
              "    <tr>\n",
              "      <th>4</th>\n",
              "      <td>373-73-7910</td>\n",
              "      <td>A</td>\n",
              "      <td>Yangon</td>\n",
              "      <td>Normal</td>\n",
              "      <td>Male</td>\n",
              "      <td>Sports and travel</td>\n",
              "      <td>86.31</td>\n",
              "      <td>7</td>\n",
              "      <td>30.2085</td>\n",
              "      <td>634.3785</td>\n",
              "      <td>2/8/2019</td>\n",
              "      <td>10:37</td>\n",
              "      <td>Ewallet</td>\n",
              "      <td>604.17</td>\n",
              "      <td>4.761905</td>\n",
              "      <td>30.2085</td>\n",
              "      <td>5.3</td>\n",
              "    </tr>\n",
              "  </tbody>\n",
              "</table>\n",
              "</div>"
            ],
            "text/plain": [
              "    Invoice ID Branch       City  ... gross margin percentage gross income Rating\n",
              "0  750-67-8428      A     Yangon  ...                4.761905      26.1415    9.1\n",
              "1  226-31-3081      C  Naypyitaw  ...                4.761905       3.8200    9.6\n",
              "2  631-41-3108      A     Yangon  ...                4.761905      16.2155    7.4\n",
              "3  123-19-1176      A     Yangon  ...                4.761905      23.2880    8.4\n",
              "4  373-73-7910      A     Yangon  ...                4.761905      30.2085    5.3\n",
              "\n",
              "[5 rows x 17 columns]"
            ]
          },
          "metadata": {},
          "execution_count": 10
        }
      ]
    },
    {
      "cell_type": "code",
      "metadata": {
        "id": "5wZSOYM2ZzTr"
      },
      "source": [
        "dtc.rename(columns=\n",
        "            {\n",
        "              'Invoice ID'              : 'Invoice_id',\n",
        "              'Customer type'           : 'Customer_type',\n",
        "              'Product line'            : 'Product_line',\n",
        "              'Unit price'              : 'Unit_price',\n",
        "              'Tax 5%'                  : 'Tax_5%',\n",
        "              'Date'                    : 'date',\n",
        "              'cogs'                    : 'Cogs',\n",
        "              'gross margin percentage' : 'Gross_margin_percent',\n",
        "              'gross income'            : 'Gross_income'\n",
        "      }, inplace= True)"
      ],
      "execution_count": 11,
      "outputs": []
    },
    {
      "cell_type": "code",
      "metadata": {
        "colab": {
          "base_uri": "https://localhost:8080/"
        },
        "id": "rXFbeAltptxJ",
        "outputId": "830e76a1-e6be-42a5-dd6f-18f4417875e9"
      },
      "source": [
        "dtc.columns.values"
      ],
      "execution_count": 12,
      "outputs": [
        {
          "output_type": "execute_result",
          "data": {
            "text/plain": [
              "array(['Invoice_id', 'Branch', 'City', 'Customer_type', 'Gender',\n",
              "       'Product_line', 'Unit_price', 'Quantity', 'Tax_5%', 'Total',\n",
              "       'date', 'Time', 'Payment', 'Cogs', 'Gross_margin_percent',\n",
              "       'Gross_income', 'Rating'], dtype=object)"
            ]
          },
          "metadata": {},
          "execution_count": 12
        }
      ]
    },
    {
      "cell_type": "code",
      "metadata": {
        "colab": {
          "base_uri": "https://localhost:8080/",
          "height": 617
        },
        "id": "YaYAAnyip73m",
        "outputId": "03409211-10a2-4e95-cde9-0010fb82ecbf"
      },
      "source": [
        "dtc['Month'] = pd.DatetimeIndex(dtc['date']).month\n",
        "dtc['Month'] = dtc['Month'].apply(lambda x: calendar.month_abbr[x])\n",
        "dtc"
      ],
      "execution_count": 13,
      "outputs": [
        {
          "output_type": "execute_result",
          "data": {
            "text/html": [
              "<div>\n",
              "<style scoped>\n",
              "    .dataframe tbody tr th:only-of-type {\n",
              "        vertical-align: middle;\n",
              "    }\n",
              "\n",
              "    .dataframe tbody tr th {\n",
              "        vertical-align: top;\n",
              "    }\n",
              "\n",
              "    .dataframe thead th {\n",
              "        text-align: right;\n",
              "    }\n",
              "</style>\n",
              "<table border=\"1\" class=\"dataframe\">\n",
              "  <thead>\n",
              "    <tr style=\"text-align: right;\">\n",
              "      <th></th>\n",
              "      <th>Invoice_id</th>\n",
              "      <th>Branch</th>\n",
              "      <th>City</th>\n",
              "      <th>Customer_type</th>\n",
              "      <th>Gender</th>\n",
              "      <th>Product_line</th>\n",
              "      <th>Unit_price</th>\n",
              "      <th>Quantity</th>\n",
              "      <th>Tax_5%</th>\n",
              "      <th>Total</th>\n",
              "      <th>date</th>\n",
              "      <th>Time</th>\n",
              "      <th>Payment</th>\n",
              "      <th>Cogs</th>\n",
              "      <th>Gross_margin_percent</th>\n",
              "      <th>Gross_income</th>\n",
              "      <th>Rating</th>\n",
              "      <th>Month</th>\n",
              "    </tr>\n",
              "  </thead>\n",
              "  <tbody>\n",
              "    <tr>\n",
              "      <th>0</th>\n",
              "      <td>750-67-8428</td>\n",
              "      <td>A</td>\n",
              "      <td>Yangon</td>\n",
              "      <td>Member</td>\n",
              "      <td>Female</td>\n",
              "      <td>Health and beauty</td>\n",
              "      <td>74.69</td>\n",
              "      <td>7</td>\n",
              "      <td>26.1415</td>\n",
              "      <td>548.9715</td>\n",
              "      <td>1/5/2019</td>\n",
              "      <td>13:08</td>\n",
              "      <td>Ewallet</td>\n",
              "      <td>522.83</td>\n",
              "      <td>4.761905</td>\n",
              "      <td>26.1415</td>\n",
              "      <td>9.1</td>\n",
              "      <td>Jan</td>\n",
              "    </tr>\n",
              "    <tr>\n",
              "      <th>1</th>\n",
              "      <td>226-31-3081</td>\n",
              "      <td>C</td>\n",
              "      <td>Naypyitaw</td>\n",
              "      <td>Normal</td>\n",
              "      <td>Female</td>\n",
              "      <td>Electronic accessories</td>\n",
              "      <td>15.28</td>\n",
              "      <td>5</td>\n",
              "      <td>3.8200</td>\n",
              "      <td>80.2200</td>\n",
              "      <td>3/8/2019</td>\n",
              "      <td>10:29</td>\n",
              "      <td>Cash</td>\n",
              "      <td>76.40</td>\n",
              "      <td>4.761905</td>\n",
              "      <td>3.8200</td>\n",
              "      <td>9.6</td>\n",
              "      <td>Mar</td>\n",
              "    </tr>\n",
              "    <tr>\n",
              "      <th>2</th>\n",
              "      <td>631-41-3108</td>\n",
              "      <td>A</td>\n",
              "      <td>Yangon</td>\n",
              "      <td>Normal</td>\n",
              "      <td>Male</td>\n",
              "      <td>Home and lifestyle</td>\n",
              "      <td>46.33</td>\n",
              "      <td>7</td>\n",
              "      <td>16.2155</td>\n",
              "      <td>340.5255</td>\n",
              "      <td>3/3/2019</td>\n",
              "      <td>13:23</td>\n",
              "      <td>Credit card</td>\n",
              "      <td>324.31</td>\n",
              "      <td>4.761905</td>\n",
              "      <td>16.2155</td>\n",
              "      <td>7.4</td>\n",
              "      <td>Mar</td>\n",
              "    </tr>\n",
              "    <tr>\n",
              "      <th>3</th>\n",
              "      <td>123-19-1176</td>\n",
              "      <td>A</td>\n",
              "      <td>Yangon</td>\n",
              "      <td>Member</td>\n",
              "      <td>Male</td>\n",
              "      <td>Health and beauty</td>\n",
              "      <td>58.22</td>\n",
              "      <td>8</td>\n",
              "      <td>23.2880</td>\n",
              "      <td>489.0480</td>\n",
              "      <td>1/27/2019</td>\n",
              "      <td>20:33</td>\n",
              "      <td>Ewallet</td>\n",
              "      <td>465.76</td>\n",
              "      <td>4.761905</td>\n",
              "      <td>23.2880</td>\n",
              "      <td>8.4</td>\n",
              "      <td>Jan</td>\n",
              "    </tr>\n",
              "    <tr>\n",
              "      <th>4</th>\n",
              "      <td>373-73-7910</td>\n",
              "      <td>A</td>\n",
              "      <td>Yangon</td>\n",
              "      <td>Normal</td>\n",
              "      <td>Male</td>\n",
              "      <td>Sports and travel</td>\n",
              "      <td>86.31</td>\n",
              "      <td>7</td>\n",
              "      <td>30.2085</td>\n",
              "      <td>634.3785</td>\n",
              "      <td>2/8/2019</td>\n",
              "      <td>10:37</td>\n",
              "      <td>Ewallet</td>\n",
              "      <td>604.17</td>\n",
              "      <td>4.761905</td>\n",
              "      <td>30.2085</td>\n",
              "      <td>5.3</td>\n",
              "      <td>Feb</td>\n",
              "    </tr>\n",
              "    <tr>\n",
              "      <th>...</th>\n",
              "      <td>...</td>\n",
              "      <td>...</td>\n",
              "      <td>...</td>\n",
              "      <td>...</td>\n",
              "      <td>...</td>\n",
              "      <td>...</td>\n",
              "      <td>...</td>\n",
              "      <td>...</td>\n",
              "      <td>...</td>\n",
              "      <td>...</td>\n",
              "      <td>...</td>\n",
              "      <td>...</td>\n",
              "      <td>...</td>\n",
              "      <td>...</td>\n",
              "      <td>...</td>\n",
              "      <td>...</td>\n",
              "      <td>...</td>\n",
              "      <td>...</td>\n",
              "    </tr>\n",
              "    <tr>\n",
              "      <th>995</th>\n",
              "      <td>233-67-5758</td>\n",
              "      <td>C</td>\n",
              "      <td>Naypyitaw</td>\n",
              "      <td>Normal</td>\n",
              "      <td>Male</td>\n",
              "      <td>Health and beauty</td>\n",
              "      <td>40.35</td>\n",
              "      <td>1</td>\n",
              "      <td>2.0175</td>\n",
              "      <td>42.3675</td>\n",
              "      <td>1/29/2019</td>\n",
              "      <td>13:46</td>\n",
              "      <td>Ewallet</td>\n",
              "      <td>40.35</td>\n",
              "      <td>4.761905</td>\n",
              "      <td>2.0175</td>\n",
              "      <td>6.2</td>\n",
              "      <td>Jan</td>\n",
              "    </tr>\n",
              "    <tr>\n",
              "      <th>996</th>\n",
              "      <td>303-96-2227</td>\n",
              "      <td>B</td>\n",
              "      <td>Mandalay</td>\n",
              "      <td>Normal</td>\n",
              "      <td>Female</td>\n",
              "      <td>Home and lifestyle</td>\n",
              "      <td>97.38</td>\n",
              "      <td>10</td>\n",
              "      <td>48.6900</td>\n",
              "      <td>1022.4900</td>\n",
              "      <td>3/2/2019</td>\n",
              "      <td>17:16</td>\n",
              "      <td>Ewallet</td>\n",
              "      <td>973.80</td>\n",
              "      <td>4.761905</td>\n",
              "      <td>48.6900</td>\n",
              "      <td>4.4</td>\n",
              "      <td>Mar</td>\n",
              "    </tr>\n",
              "    <tr>\n",
              "      <th>997</th>\n",
              "      <td>727-02-1313</td>\n",
              "      <td>A</td>\n",
              "      <td>Yangon</td>\n",
              "      <td>Member</td>\n",
              "      <td>Male</td>\n",
              "      <td>Food and beverages</td>\n",
              "      <td>31.84</td>\n",
              "      <td>1</td>\n",
              "      <td>1.5920</td>\n",
              "      <td>33.4320</td>\n",
              "      <td>2/9/2019</td>\n",
              "      <td>13:22</td>\n",
              "      <td>Cash</td>\n",
              "      <td>31.84</td>\n",
              "      <td>4.761905</td>\n",
              "      <td>1.5920</td>\n",
              "      <td>7.7</td>\n",
              "      <td>Feb</td>\n",
              "    </tr>\n",
              "    <tr>\n",
              "      <th>998</th>\n",
              "      <td>347-56-2442</td>\n",
              "      <td>A</td>\n",
              "      <td>Yangon</td>\n",
              "      <td>Normal</td>\n",
              "      <td>Male</td>\n",
              "      <td>Home and lifestyle</td>\n",
              "      <td>65.82</td>\n",
              "      <td>1</td>\n",
              "      <td>3.2910</td>\n",
              "      <td>69.1110</td>\n",
              "      <td>2/22/2019</td>\n",
              "      <td>15:33</td>\n",
              "      <td>Cash</td>\n",
              "      <td>65.82</td>\n",
              "      <td>4.761905</td>\n",
              "      <td>3.2910</td>\n",
              "      <td>4.1</td>\n",
              "      <td>Feb</td>\n",
              "    </tr>\n",
              "    <tr>\n",
              "      <th>999</th>\n",
              "      <td>849-09-3807</td>\n",
              "      <td>A</td>\n",
              "      <td>Yangon</td>\n",
              "      <td>Member</td>\n",
              "      <td>Female</td>\n",
              "      <td>Fashion accessories</td>\n",
              "      <td>88.34</td>\n",
              "      <td>7</td>\n",
              "      <td>30.9190</td>\n",
              "      <td>649.2990</td>\n",
              "      <td>2/18/2019</td>\n",
              "      <td>13:28</td>\n",
              "      <td>Cash</td>\n",
              "      <td>618.38</td>\n",
              "      <td>4.761905</td>\n",
              "      <td>30.9190</td>\n",
              "      <td>6.6</td>\n",
              "      <td>Feb</td>\n",
              "    </tr>\n",
              "  </tbody>\n",
              "</table>\n",
              "<p>1000 rows × 18 columns</p>\n",
              "</div>"
            ],
            "text/plain": [
              "      Invoice_id Branch       City  ... Gross_income Rating Month\n",
              "0    750-67-8428      A     Yangon  ...      26.1415    9.1   Jan\n",
              "1    226-31-3081      C  Naypyitaw  ...       3.8200    9.6   Mar\n",
              "2    631-41-3108      A     Yangon  ...      16.2155    7.4   Mar\n",
              "3    123-19-1176      A     Yangon  ...      23.2880    8.4   Jan\n",
              "4    373-73-7910      A     Yangon  ...      30.2085    5.3   Feb\n",
              "..           ...    ...        ...  ...          ...    ...   ...\n",
              "995  233-67-5758      C  Naypyitaw  ...       2.0175    6.2   Jan\n",
              "996  303-96-2227      B   Mandalay  ...      48.6900    4.4   Mar\n",
              "997  727-02-1313      A     Yangon  ...       1.5920    7.7   Feb\n",
              "998  347-56-2442      A     Yangon  ...       3.2910    4.1   Feb\n",
              "999  849-09-3807      A     Yangon  ...      30.9190    6.6   Feb\n",
              "\n",
              "[1000 rows x 18 columns]"
            ]
          },
          "metadata": {},
          "execution_count": 13
        }
      ]
    },
    {
      "cell_type": "markdown",
      "metadata": {
        "id": "Mp_TwJ__ZNNc"
      },
      "source": [
        "##**OUTLIER DETECTION :**"
      ]
    },
    {
      "cell_type": "code",
      "metadata": {
        "colab": {
          "base_uri": "https://localhost:8080/",
          "height": 283
        },
        "id": "UoliB52BrPGx",
        "outputId": "406b2efb-2abc-40ba-fd4a-b9b76813c415"
      },
      "source": [
        "dtc['Gross_income'].plot.hist(bins=50, density=True)"
      ],
      "execution_count": 14,
      "outputs": [
        {
          "output_type": "execute_result",
          "data": {
            "text/plain": [
              "<matplotlib.axes._subplots.AxesSubplot at 0x7f31f918e410>"
            ]
          },
          "metadata": {},
          "execution_count": 14
        },
        {
          "output_type": "display_data",
          "data": {
            "image/png": "[encoded data removed]",
            "text/plain": [
              "<Figure size 432x288 with 1 Axes>"
            ]
          },
          "metadata": {
            "needs_background": "light"
          }
        }
      ]
    },
    {
      "cell_type": "code",
      "metadata": {
        "colab": {
          "base_uri": "https://localhost:8080/",
          "height": 296
        },
        "id": "n6lZlNOOwEpg",
        "outputId": "e29f2efd-c169-466c-d4f9-1eec63d45747"
      },
      "source": [
        "plt.boxplot(dtc['Gross_income'],\n",
        "            labels=['Data'],\n",
        "            showfliers=True,\n",
        "            vert=False,\n",
        "            flierprops={\n",
        "                'markerfacecolor': 'r',\n",
        "                'marker': 'd'\n",
        "            })\n",
        "plt.title('Outlier Detection')\n",
        "plt.xlabel('Gross_income')\n",
        "plt.ylabel('')\n",
        "plt.show()"
      ],
      "execution_count": 15,
      "outputs": [
        {
          "output_type": "display_data",
          "data": {
            "image/png": "[encoded data removed]",
            "text/plain": [
              "<Figure size 432x288 with 1 Axes>"
            ]
          },
          "metadata": {
            "needs_background": "light"
          }
        }
      ]
    },
    {
      "cell_type": "markdown",
      "metadata": {
        "id": "eyJqIYPVZPXN"
      },
      "source": [
        "##**REMOVE OUTLIER :**"
      ]
    },
    {
      "cell_type": "code",
      "metadata": {
        "colab": {
          "base_uri": "https://localhost:8080/"
        },
        "id": "keBFpKpsrig0",
        "outputId": "94c24e24-5f48-4c4a-cea1-acf30e05bb9e"
      },
      "source": [
        "quartiles = np.percentile(dtc['Gross_income'], [25, 50, 75])\n",
        "print(quartiles)"
      ],
      "execution_count": 16,
      "outputs": [
        {
          "output_type": "stream",
          "name": "stdout",
          "text": [
            "[ 5.924875 12.088    22.44525 ]\n"
          ]
        }
      ]
    },
    {
      "cell_type": "code",
      "metadata": {
        "colab": {
          "base_uri": "https://localhost:8080/"
        },
        "id": "c9QXm9P6zHYn",
        "outputId": "3e16d12d-2c03-44a9-f307-a09a56518a9e"
      },
      "source": [
        "data_min, data_max = dtc['Gross_income'].min(), dtc['Gross_income'].max()\n",
        "print(data_min)\n",
        "print(data_max)\n",
        "# print 5-number summary\n",
        "print('Min: %.3f' % data_min)\n",
        "print('Q1: %.3f' % quartiles[0])\n",
        "print('Median: %.3f' % quartiles[1])\n",
        "print('Q3: %.3f' % quartiles[2])\n",
        "print('Max: %.3f' % data_max)"
      ],
      "execution_count": 17,
      "outputs": [
        {
          "output_type": "stream",
          "name": "stdout",
          "text": [
            "0.5085\n",
            "49.65\n",
            "Min: 0.508\n",
            "Q1: 5.925\n",
            "Median: 12.088\n",
            "Q3: 22.445\n",
            "Max: 49.650\n"
          ]
        }
      ]
    },
    {
      "cell_type": "code",
      "metadata": {
        "colab": {
          "base_uri": "https://localhost:8080/"
        },
        "id": "XyUr3wcPssya",
        "outputId": "9f6959dd-3e9c-4041-bab4-d7df6780c70a"
      },
      "source": [
        "out_abv = quartiles[2]+1.5*(quartiles[2]-quartiles[0])\n",
        "out_abv"
      ],
      "execution_count": 18,
      "outputs": [
        {
          "output_type": "execute_result",
          "data": {
            "text/plain": [
              "47.22581249999999"
            ]
          },
          "metadata": {},
          "execution_count": 18
        }
      ]
    },
    {
      "cell_type": "code",
      "metadata": {
        "colab": {
          "base_uri": "https://localhost:8080/",
          "height": 313
        },
        "id": "2w4BO_gcsu5x",
        "outputId": "814f71da-1d3c-494c-cb92-0f8682f64b82"
      },
      "source": [
        "dtc_filt = dtc[dtc['Gross_income'] <= 47.225]\n",
        "dtc_filt.head()"
      ],
      "execution_count": 19,
      "outputs": [
        {
          "output_type": "execute_result",
          "data": {
            "text/html": [
              "<div>\n",
              "<style scoped>\n",
              "    .dataframe tbody tr th:only-of-type {\n",
              "        vertical-align: middle;\n",
              "    }\n",
              "\n",
              "    .dataframe tbody tr th {\n",
              "        vertical-align: top;\n",
              "    }\n",
              "\n",
              "    .dataframe thead th {\n",
              "        text-align: right;\n",
              "    }\n",
              "</style>\n",
              "<table border=\"1\" class=\"dataframe\">\n",
              "  <thead>\n",
              "    <tr style=\"text-align: right;\">\n",
              "      <th></th>\n",
              "      <th>Invoice_id</th>\n",
              "      <th>Branch</th>\n",
              "      <th>City</th>\n",
              "      <th>Customer_type</th>\n",
              "      <th>Gender</th>\n",
              "      <th>Product_line</th>\n",
              "      <th>Unit_price</th>\n",
              "      <th>Quantity</th>\n",
              "      <th>Tax_5%</th>\n",
              "      <th>Total</th>\n",
              "      <th>date</th>\n",
              "      <th>Time</th>\n",
              "      <th>Payment</th>\n",
              "      <th>Cogs</th>\n",
              "      <th>Gross_margin_percent</th>\n",
              "      <th>Gross_income</th>\n",
              "      <th>Rating</th>\n",
              "      <th>Month</th>\n",
              "    </tr>\n",
              "  </thead>\n",
              "  <tbody>\n",
              "    <tr>\n",
              "      <th>0</th>\n",
              "      <td>750-67-8428</td>\n",
              "      <td>A</td>\n",
              "      <td>Yangon</td>\n",
              "      <td>Member</td>\n",
              "      <td>Female</td>\n",
              "      <td>Health and beauty</td>\n",
              "      <td>74.69</td>\n",
              "      <td>7</td>\n",
              "      <td>26.1415</td>\n",
              "      <td>548.9715</td>\n",
              "      <td>1/5/2019</td>\n",
              "      <td>13:08</td>\n",
              "      <td>Ewallet</td>\n",
              "      <td>522.83</td>\n",
              "      <td>4.761905</td>\n",
              "      <td>26.1415</td>\n",
              "      <td>9.1</td>\n",
              "      <td>Jan</td>\n",
              "    </tr>\n",
              "    <tr>\n",
              "      <th>1</th>\n",
              "      <td>226-31-3081</td>\n",
              "      <td>C</td>\n",
              "      <td>Naypyitaw</td>\n",
              "      <td>Normal</td>\n",
              "      <td>Female</td>\n",
              "      <td>Electronic accessories</td>\n",
              "      <td>15.28</td>\n",
              "      <td>5</td>\n",
              "      <td>3.8200</td>\n",
              "      <td>80.2200</td>\n",
              "      <td>3/8/2019</td>\n",
              "      <td>10:29</td>\n",
              "      <td>Cash</td>\n",
              "      <td>76.40</td>\n",
              "      <td>4.761905</td>\n",
              "      <td>3.8200</td>\n",
              "      <td>9.6</td>\n",
              "      <td>Mar</td>\n",
              "    </tr>\n",
              "    <tr>\n",
              "      <th>2</th>\n",
              "      <td>631-41-3108</td>\n",
              "      <td>A</td>\n",
              "      <td>Yangon</td>\n",
              "      <td>Normal</td>\n",
              "      <td>Male</td>\n",
              "      <td>Home and lifestyle</td>\n",
              "      <td>46.33</td>\n",
              "      <td>7</td>\n",
              "      <td>16.2155</td>\n",
              "      <td>340.5255</td>\n",
              "      <td>3/3/2019</td>\n",
              "      <td>13:23</td>\n",
              "      <td>Credit card</td>\n",
              "      <td>324.31</td>\n",
              "      <td>4.761905</td>\n",
              "      <td>16.2155</td>\n",
              "      <td>7.4</td>\n",
              "      <td>Mar</td>\n",
              "    </tr>\n",
              "    <tr>\n",
              "      <th>3</th>\n",
              "      <td>123-19-1176</td>\n",
              "      <td>A</td>\n",
              "      <td>Yangon</td>\n",
              "      <td>Member</td>\n",
              "      <td>Male</td>\n",
              "      <td>Health and beauty</td>\n",
              "      <td>58.22</td>\n",
              "      <td>8</td>\n",
              "      <td>23.2880</td>\n",
              "      <td>489.0480</td>\n",
              "      <td>1/27/2019</td>\n",
              "      <td>20:33</td>\n",
              "      <td>Ewallet</td>\n",
              "      <td>465.76</td>\n",
              "      <td>4.761905</td>\n",
              "      <td>23.2880</td>\n",
              "      <td>8.4</td>\n",
              "      <td>Jan</td>\n",
              "    </tr>\n",
              "    <tr>\n",
              "      <th>4</th>\n",
              "      <td>373-73-7910</td>\n",
              "      <td>A</td>\n",
              "      <td>Yangon</td>\n",
              "      <td>Normal</td>\n",
              "      <td>Male</td>\n",
              "      <td>Sports and travel</td>\n",
              "      <td>86.31</td>\n",
              "      <td>7</td>\n",
              "      <td>30.2085</td>\n",
              "      <td>634.3785</td>\n",
              "      <td>2/8/2019</td>\n",
              "      <td>10:37</td>\n",
              "      <td>Ewallet</td>\n",
              "      <td>604.17</td>\n",
              "      <td>4.761905</td>\n",
              "      <td>30.2085</td>\n",
              "      <td>5.3</td>\n",
              "      <td>Feb</td>\n",
              "    </tr>\n",
              "  </tbody>\n",
              "</table>\n",
              "</div>"
            ],
            "text/plain": [
              "    Invoice_id Branch       City  ... Gross_income Rating Month\n",
              "0  750-67-8428      A     Yangon  ...      26.1415    9.1   Jan\n",
              "1  226-31-3081      C  Naypyitaw  ...       3.8200    9.6   Mar\n",
              "2  631-41-3108      A     Yangon  ...      16.2155    7.4   Mar\n",
              "3  123-19-1176      A     Yangon  ...      23.2880    8.4   Jan\n",
              "4  373-73-7910      A     Yangon  ...      30.2085    5.3   Feb\n",
              "\n",
              "[5 rows x 18 columns]"
            ]
          },
          "metadata": {},
          "execution_count": 19
        }
      ]
    },
    {
      "cell_type": "markdown",
      "metadata": {
        "id": "Rja3MyhrYypo"
      },
      "source": [
        "##**OUTLIER CHECKING :**"
      ]
    },
    {
      "cell_type": "code",
      "metadata": {
        "colab": {
          "base_uri": "https://localhost:8080/",
          "height": 283
        },
        "id": "FJKusX7Zs8bz",
        "outputId": "16b46bee-f269-4f59-a30f-abd40cdcf4d1"
      },
      "source": [
        "dtc_filt['Gross_income'].plot.hist(bins=20, density=True)"
      ],
      "execution_count": 20,
      "outputs": [
        {
          "output_type": "execute_result",
          "data": {
            "text/plain": [
              "<matplotlib.axes._subplots.AxesSubplot at 0x7f31f8b43290>"
            ]
          },
          "metadata": {},
          "execution_count": 20
        },
        {
          "output_type": "display_data",
          "data": {
            "image/png": "[encoded data removed]",
            "text/plain": [
              "<Figure size 432x288 with 1 Axes>"
            ]
          },
          "metadata": {
            "needs_background": "light"
          }
        }
      ]
    },
    {
      "cell_type": "code",
      "metadata": {
        "colab": {
          "base_uri": "https://localhost:8080/",
          "height": 296
        },
        "id": "RXaACU2tyMr1",
        "outputId": "0bbbc3f6-d715-4a39-9fbb-44537c81b457"
      },
      "source": [
        "plt.boxplot(dtc_filt['Gross_income'],\n",
        "            labels=['Data'],\n",
        "            showfliers=False,\n",
        "            vert=False,\n",
        "            flierprops={\n",
        "                'markerfacecolor': 'r',\n",
        "                'marker': 'd'\n",
        "            })\n",
        "plt.title('Outlier Detection')\n",
        "plt.xlabel('Gross_income')\n",
        "plt.ylabel('')\n",
        "plt.show()"
      ],
      "execution_count": 21,
      "outputs": [
        {
          "output_type": "display_data",
          "data": {
            "image/png": "[encoded data removed]",
            "text/plain": [
              "<Figure size 432x288 with 1 Axes>"
            ]
          },
          "metadata": {
            "needs_background": "light"
          }
        }
      ]
    },
    {
      "cell_type": "code",
      "metadata": {
        "colab": {
          "base_uri": "https://localhost:8080/",
          "height": 163
        },
        "id": "D_S3VK4LzbkO",
        "outputId": "849929c6-07ce-45f1-fb97-fca514b8992b"
      },
      "source": [
        "dtc_filt.groupby('Customer_type').count()"
      ],
      "execution_count": 22,
      "outputs": [
        {
          "output_type": "execute_result",
          "data": {
            "text/html": [
              "<div>\n",
              "<style scoped>\n",
              "    .dataframe tbody tr th:only-of-type {\n",
              "        vertical-align: middle;\n",
              "    }\n",
              "\n",
              "    .dataframe tbody tr th {\n",
              "        vertical-align: top;\n",
              "    }\n",
              "\n",
              "    .dataframe thead th {\n",
              "        text-align: right;\n",
              "    }\n",
              "</style>\n",
              "<table border=\"1\" class=\"dataframe\">\n",
              "  <thead>\n",
              "    <tr style=\"text-align: right;\">\n",
              "      <th></th>\n",
              "      <th>Invoice_id</th>\n",
              "      <th>Branch</th>\n",
              "      <th>City</th>\n",
              "      <th>Gender</th>\n",
              "      <th>Product_line</th>\n",
              "      <th>Unit_price</th>\n",
              "      <th>Quantity</th>\n",
              "      <th>Tax_5%</th>\n",
              "      <th>Total</th>\n",
              "      <th>date</th>\n",
              "      <th>Time</th>\n",
              "      <th>Payment</th>\n",
              "      <th>Cogs</th>\n",
              "      <th>Gross_margin_percent</th>\n",
              "      <th>Gross_income</th>\n",
              "      <th>Rating</th>\n",
              "      <th>Month</th>\n",
              "    </tr>\n",
              "    <tr>\n",
              "      <th>Customer_type</th>\n",
              "      <th></th>\n",
              "      <th></th>\n",
              "      <th></th>\n",
              "      <th></th>\n",
              "      <th></th>\n",
              "      <th></th>\n",
              "      <th></th>\n",
              "      <th></th>\n",
              "      <th></th>\n",
              "      <th></th>\n",
              "      <th></th>\n",
              "      <th></th>\n",
              "      <th></th>\n",
              "      <th></th>\n",
              "      <th></th>\n",
              "      <th></th>\n",
              "      <th></th>\n",
              "    </tr>\n",
              "  </thead>\n",
              "  <tbody>\n",
              "    <tr>\n",
              "      <th>Member</th>\n",
              "      <td>498</td>\n",
              "      <td>498</td>\n",
              "      <td>498</td>\n",
              "      <td>498</td>\n",
              "      <td>498</td>\n",
              "      <td>498</td>\n",
              "      <td>498</td>\n",
              "      <td>498</td>\n",
              "      <td>498</td>\n",
              "      <td>498</td>\n",
              "      <td>498</td>\n",
              "      <td>498</td>\n",
              "      <td>498</td>\n",
              "      <td>498</td>\n",
              "      <td>498</td>\n",
              "      <td>498</td>\n",
              "      <td>498</td>\n",
              "    </tr>\n",
              "    <tr>\n",
              "      <th>Normal</th>\n",
              "      <td>493</td>\n",
              "      <td>493</td>\n",
              "      <td>493</td>\n",
              "      <td>493</td>\n",
              "      <td>493</td>\n",
              "      <td>493</td>\n",
              "      <td>493</td>\n",
              "      <td>493</td>\n",
              "      <td>493</td>\n",
              "      <td>493</td>\n",
              "      <td>493</td>\n",
              "      <td>493</td>\n",
              "      <td>493</td>\n",
              "      <td>493</td>\n",
              "      <td>493</td>\n",
              "      <td>493</td>\n",
              "      <td>493</td>\n",
              "    </tr>\n",
              "  </tbody>\n",
              "</table>\n",
              "</div>"
            ],
            "text/plain": [
              "               Invoice_id  Branch  City  ...  Gross_income  Rating  Month\n",
              "Customer_type                            ...                             \n",
              "Member                498     498   498  ...           498     498    498\n",
              "Normal                493     493   493  ...           493     493    493\n",
              "\n",
              "[2 rows x 17 columns]"
            ]
          },
          "metadata": {},
          "execution_count": 22
        }
      ]
    },
    {
      "cell_type": "code",
      "metadata": {
        "colab": {
          "base_uri": "https://localhost:8080/"
        },
        "id": "NOTDMIEjzofB",
        "outputId": "dff264ab-1ece-4033-b73f-81a9e95f11db"
      },
      "source": [
        "dtc_filt.info()"
      ],
      "execution_count": 23,
      "outputs": [
        {
          "output_type": "stream",
          "name": "stdout",
          "text": [
            "<class 'pandas.core.frame.DataFrame'>\n",
            "Int64Index: 991 entries, 0 to 999\n",
            "Data columns (total 18 columns):\n",
            " #   Column                Non-Null Count  Dtype  \n",
            "---  ------                --------------  -----  \n",
            " 0   Invoice_id            991 non-null    object \n",
            " 1   Branch                991 non-null    object \n",
            " 2   City                  991 non-null    object \n",
            " 3   Customer_type         991 non-null    object \n",
            " 4   Gender                991 non-null    object \n",
            " 5   Product_line          991 non-null    object \n",
            " 6   Unit_price            991 non-null    float64\n",
            " 7   Quantity              991 non-null    int64  \n",
            " 8   Tax_5%                991 non-null    float64\n",
            " 9   Total                 991 non-null    float64\n",
            " 10  date                  991 non-null    object \n",
            " 11  Time                  991 non-null    object \n",
            " 12  Payment               991 non-null    object \n",
            " 13  Cogs                  991 non-null    float64\n",
            " 14  Gross_margin_percent  991 non-null    float64\n",
            " 15  Gross_income          991 non-null    float64\n",
            " 16  Rating                991 non-null    float64\n",
            " 17  Month                 991 non-null    object \n",
            "dtypes: float64(7), int64(1), object(10)\n",
            "memory usage: 147.1+ KB\n"
          ]
        }
      ]
    },
    {
      "cell_type": "markdown",
      "metadata": {
        "id": "hyWIdfhs8qMc"
      },
      "source": [
        "#**Measure of Central Tendency :**\n",
        "*   Mean (Nilai rata-rata)\n",
        "*   Median (Nilai tengah)\n",
        "*   Mode (Nilai yang paling sering muncul)"
      ]
    },
    {
      "cell_type": "code",
      "metadata": {
        "colab": {
          "base_uri": "https://localhost:8080/"
        },
        "id": "Q9T3a9od0h3k",
        "outputId": "9317310e-ce16-4f35-a4d4-23b5ec02d346"
      },
      "source": [
        "CT1 = ['Unit_price','Tax_5%','Total','Cogs','Gross_margin_percent','Gross_income','Rating']\n",
        "for col in CT1:\n",
        "    print ('Mean ' + dtc_filt[col].name + ' = ' + str(dtc_filt[col].mean()))"
      ],
      "execution_count": 24,
      "outputs": [
        {
          "output_type": "stream",
          "name": "stdout",
          "text": [
            "Mean Unit_price = 55.292482341069615\n",
            "Mean Tax_5% = 15.07641675075681\n",
            "Mean Total = 316.60475176589335\n",
            "Mean Cogs = 301.5283350151365\n",
            "Mean Gross_margin_percent = 4.761904762000062\n",
            "Mean Gross_income = 15.07641675075681\n",
            "Mean Rating = 6.979717457114031\n"
          ]
        }
      ]
    },
    {
      "cell_type": "code",
      "metadata": {
        "colab": {
          "base_uri": "https://localhost:8080/"
        },
        "id": "D8Epk11j09Jh",
        "outputId": "67b97d47-93ec-4366-d63d-d8298e2c513d"
      },
      "source": [
        "CT2 = ['Unit_price','Tax_5%','Total','Cogs','Gross_margin_percent','Gross_income','Rating']\n",
        "for col in CT2:\n",
        "    print ('Median ' + dtc_filt[col].name + ' = ' + str(dtc_filt[col].median()))"
      ],
      "execution_count": 25,
      "outputs": [
        {
          "output_type": "stream",
          "name": "stdout",
          "text": [
            "Median Unit_price = 54.84\n",
            "Median Tax_5% = 12.036\n",
            "Median Total = 252.75599999999997\n",
            "Median Cogs = 240.72\n",
            "Median Gross_margin_percent = 4.7619047619999995\n",
            "Median Gross_income = 12.036\n",
            "Median Rating = 7.0\n"
          ]
        }
      ]
    },
    {
      "cell_type": "code",
      "metadata": {
        "colab": {
          "base_uri": "https://localhost:8080/"
        },
        "id": "1Yk5HNqj1FBW",
        "outputId": "df910060-d643-447f-9538-25815e474340"
      },
      "source": [
        "CT2 = ['Unit_price','Tax_5%','Total','Cogs','Gross_margin_percent','Gross_income','Rating']\n",
        "for col in CT2:\n",
        "    print ('Mode ' + dtc_filt[col].name + ' = ' + str(dtc_filt[col].median()))"
      ],
      "execution_count": 26,
      "outputs": [
        {
          "output_type": "stream",
          "name": "stdout",
          "text": [
            "Mode Unit_price = 54.84\n",
            "Mode Tax_5% = 12.036\n",
            "Mode Total = 252.75599999999997\n",
            "Mode Cogs = 240.72\n",
            "Mode Gross_margin_percent = 4.7619047619999995\n",
            "Mode Gross_income = 12.036\n",
            "Mode Rating = 7.0\n"
          ]
        }
      ]
    },
    {
      "cell_type": "code",
      "metadata": {
        "colab": {
          "base_uri": "https://localhost:8080/"
        },
        "id": "yOZxaoWd18GK",
        "outputId": "6c821f07-333d-4337-93cb-b0e0253a14b7"
      },
      "source": [
        "CTO = ['Branch','City','Total','Customer_type','Gender','Product_line','Payment','Month']\n",
        "for col in CTO:\n",
        "    print ('Modus ' + dtc_filt[col].name + ' = ' + str(dtc_filt[col].mode()[0]))"
      ],
      "execution_count": 27,
      "outputs": [
        {
          "output_type": "stream",
          "name": "stdout",
          "text": [
            "Modus Branch = A\n",
            "Modus City = Yangon\n",
            "Modus Total = 87.234\n",
            "Modus Customer_type = Member\n",
            "Modus Gender = Male\n",
            "Modus Product_line = Fashion accessories\n",
            "Modus Payment = Cash\n",
            "Modus Month = Jan\n"
          ]
        }
      ]
    },
    {
      "cell_type": "markdown",
      "metadata": {
        "id": "yilpFcfl8REX"
      },
      "source": [
        "##**Measure of Variance :**\n",
        "*   Measure of Variance: Range\n",
        "*   Measure of Variance: Variance\n",
        "*   Measure of Variance: Standard Deviation"
      ]
    },
    {
      "cell_type": "code",
      "metadata": {
        "colab": {
          "base_uri": "https://localhost:8080/"
        },
        "id": "jNDnKCo12Vv4",
        "outputId": "7ba35afe-bcbd-4318-a244-fb0b8f6cb9e7"
      },
      "source": [
        "VarR = ['Unit_price','Tax_5%','Total','Cogs','Gross_margin_percent','Gross_income','Rating']\n",
        "for col in VarR:\n",
        "    print ('Range ' + dtc_filt[col].name + ' = ' + str(dtc_filt[col].max() - dtc_filt[col].min()))"
      ],
      "execution_count": 28,
      "outputs": [
        {
          "output_type": "stream",
          "name": "stdout",
          "text": [
            "Range Unit_price = 89.88\n",
            "Range Tax_5% = 44.816500000000005\n",
            "Range Total = 941.1465000000001\n",
            "Range Cogs = 896.33\n",
            "Range Gross_margin_percent = 0.0\n",
            "Range Gross_income = 44.816500000000005\n",
            "Range Rating = 6.0\n"
          ]
        }
      ]
    },
    {
      "cell_type": "code",
      "metadata": {
        "colab": {
          "base_uri": "https://localhost:8080/"
        },
        "id": "VilF6Epo3vhe",
        "outputId": "05255cac-8d3a-402b-ded7-e8d4fc52d8ef"
      },
      "source": [
        "Var = ['Unit_price','Tax_5%','Total','Cogs','Gross_margin_percent','Gross_income','Rating']\n",
        "for col in Var:\n",
        "    print ('Range ' + dtc_filt[col].name + ' = ' + str(dtc_filt[col].var()))"
      ],
      "execution_count": 29,
      "outputs": [
        {
          "output_type": "stream",
          "name": "stdout",
          "text": [
            "Range Unit_price = 692.3012954479207\n",
            "Range Tax_5% = 128.13117664078973\n",
            "Range Total = 56505.848898588345\n",
            "Range Cogs = 51252.47065631602\n",
            "Range Gross_margin_percent = 3.869322898649203e-27\n",
            "Range Gross_income = 128.13117664078973\n",
            "Range Rating = 2.9479417382706954\n"
          ]
        }
      ]
    },
    {
      "cell_type": "code",
      "metadata": {
        "colab": {
          "base_uri": "https://localhost:8080/"
        },
        "id": "XFUpPCGe36kJ",
        "outputId": "8bc205a3-7041-4df6-c134-115b9d7bdd8a"
      },
      "source": [
        "Var = ['Unit_price','Tax_5%','Total','Cogs','Gross_margin_percent','Gross_income','Rating']\n",
        "for col in Var:\n",
        "    print ('Standard Derivation ' + dtc_filt[col].name + ' = ' + str(dtc_filt[col].std()))"
      ],
      "execution_count": 30,
      "outputs": [
        {
          "output_type": "stream",
          "name": "stdout",
          "text": [
            "Standard Derivation Unit_price = 26.311619019891587\n",
            "Standard Derivation Tax_5% = 11.319504257730978\n",
            "Standard Derivation Total = 237.70958941235068\n",
            "Standard Derivation Cogs = 226.39008515461984\n",
            "Standard Derivation Gross_margin_percent = 6.220388170081674e-14\n",
            "Standard Derivation Gross_income = 11.319504257730978\n",
            "Standard Derivation Rating = 1.716957116025527\n"
          ]
        }
      ]
    },
    {
      "cell_type": "markdown",
      "metadata": {
        "id": "H3oOlj6M7yAv"
      },
      "source": [
        "##**DISPLAY PLOT :**"
      ]
    },
    {
      "cell_type": "code",
      "metadata": {
        "colab": {
          "base_uri": "https://localhost:8080/",
          "height": 283
        },
        "id": "da0Llgjx55hm",
        "outputId": "5ec649ac-0af4-4b4f-d4f7-1ab1e3d16f3c"
      },
      "source": [
        "dtc_filt['Gross_income'].plot.hist(bins=15, density=True)\n",
        "plt.axvline(dtc_filt['Gross_income'].describe()['mean'],\n",
        "            color='red',\n",
        "            linestyle='dashed',\n",
        "            linewidth=2)\n",
        "plt.axvline(dtc_filt['Gross_income'].describe()['50%'],\n",
        "            color='magenta',\n",
        "            linestyle='dashed',\n",
        "            linewidth=2)\n",
        "plt.axvline(dtc_filt['Gross_income'].describe()['mean'] +\n",
        "            dtc_filt['Gross_income'].describe()['std'],\n",
        "            color='green',\n",
        "            linestyle='dashed',\n",
        "            linewidth=2)"
      ],
      "execution_count": 31,
      "outputs": [
        {
          "output_type": "execute_result",
          "data": {
            "text/plain": [
              "<matplotlib.lines.Line2D at 0x7f31f9c88090>"
            ]
          },
          "metadata": {},
          "execution_count": 31
        },
        {
          "output_type": "display_data",
          "data": {
            "image/png": "[encoded data removed]",
            "text/plain": [
              "<Figure size 432x288 with 1 Axes>"
            ]
          },
          "metadata": {
            "needs_background": "light"
          }
        }
      ]
    },
    {
      "cell_type": "markdown",
      "metadata": {
        "id": "VhpLkdze7g5x"
      },
      "source": [
        "##**DISTRIBUTION FIT :**"
      ]
    },
    {
      "cell_type": "code",
      "metadata": {
        "colab": {
          "base_uri": "https://localhost:8080/",
          "height": 283
        },
        "id": "bQikU3wN6QTv",
        "outputId": "974688a3-2da6-4612-eb86-26228931d008"
      },
      "source": [
        "from scipy.stats import beta as beta_fun\n",
        "\n",
        "fig, ax = plt.subplots(1, 1)\n",
        "dtc_filt['Gross_income'].plot.hist(bins=20, density=True)\n",
        "\n",
        "alpha = 2.5\n",
        "beta = 20\n",
        "x = np.linspace(0, 1, 100)\n",
        "plt.plot(47.225 * x,\n",
        "         beta_fun.pdf(x, alpha, beta) / 47.225,\n",
        "         'm-',\n",
        "         lw=1.5,\n",
        "         alpha=1,\n",
        "         label='norm pdf')\n",
        "\n",
        "x = np.linspace(0, 47.225, 100)\n",
        "plt.plot(x,\n",
        "         norm.pdf(x, dtc_filt['Gross_income'].describe()['mean'],\n",
        "                  dtc_filt['Gross_income'].describe()['std']-100),\n",
        "         'r-',\n",
        "         lw=1.5,\n",
        "         alpha=1,\n",
        "         label='expon pdf')"
      ],
      "execution_count": 32,
      "outputs": [
        {
          "output_type": "execute_result",
          "data": {
            "text/plain": [
              "[<matplotlib.lines.Line2D at 0x7f31f8b92c50>]"
            ]
          },
          "metadata": {},
          "execution_count": 32
        },
        {
          "output_type": "display_data",
          "data": {
            "image/png": "[encoded data removed]",
            "text/plain": [
              "<Figure size 432x288 with 1 Axes>"
            ]
          },
          "metadata": {
            "needs_background": "light"
          }
        }
      ]
    },
    {
      "cell_type": "code",
      "metadata": {
        "colab": {
          "base_uri": "https://localhost:8080/"
        },
        "id": "jqzLl2mU6nh3",
        "outputId": "4e90a214-4cc0-4250-eb6b-cf77741cc6d4"
      },
      "source": [
        "exp_value = alpha/(alpha+beta)*47.225\n",
        "print(exp_value)"
      ],
      "execution_count": 33,
      "outputs": [
        {
          "output_type": "stream",
          "name": "stdout",
          "text": [
            "5.247222222222222\n"
          ]
        }
      ]
    },
    {
      "cell_type": "markdown",
      "metadata": {
        "id": "oIbxRrSl7NXM"
      },
      "source": [
        "##**CONFIDENCE INTERVAL :**"
      ]
    },
    {
      "cell_type": "code",
      "metadata": {
        "colab": {
          "base_uri": "https://localhost:8080/",
          "height": 333
        },
        "id": "8QIG-RFT6uUp",
        "outputId": "3b06b66f-07fe-4100-d58e-25baa2d39e3e"
      },
      "source": [
        "means = dtc_filt['Gross_income']\n",
        "m = means.mean()\n",
        "sd = means.std()\n",
        "ci = stats.norm.interval(0.95, m, sd)\n",
        "\n",
        "# Plot the distribution, mean, and CI\n",
        "means.plot.hist(title='Simulated Sampling Distribution', bins=20) \n",
        "plt.axvline(m, color='red', linestyle='dashed', linewidth=2)\n",
        "plt.axvline(ci[0], color='magenta', linestyle='dashed', linewidth=2)\n",
        "plt.axvline(ci[1], color='magenta', linestyle='dashed', linewidth=2)\n",
        "plt.show()\n",
        "\n",
        "# Print the Mean, StdDev and 95% CI\n",
        "print ('Sampling Mean: ' + str(m))\n",
        "print ('Sampling Std: ' + str(sd))\n",
        "print ('95% Confidence Interval: ' + str(ci))"
      ],
      "execution_count": 34,
      "outputs": [
        {
          "output_type": "display_data",
          "data": {
            "image/png": "[encoded data removed]",
            "text/plain": [
              "<Figure size 432x288 with 1 Axes>"
            ]
          },
          "metadata": {
            "needs_background": "light"
          }
        },
        {
          "output_type": "stream",
          "name": "stdout",
          "text": [
            "Sampling Mean: 15.07641675075681\n",
            "Sampling Std: 11.319504257730978\n",
            "95% Confidence Interval: (-7.109403917243704, 37.26223741875732)\n"
          ]
        }
      ]
    },
    {
      "cell_type": "markdown",
      "metadata": {
        "id": "y49D9Oxj8-SI"
      },
      "source": [
        "##**TWO SAMPLE TESTING :**\n",
        "\n",
        "(Member vs Non Member)"
      ]
    },
    {
      "cell_type": "markdown",
      "metadata": {
        "id": "Ao8OS4BX9Pf4"
      },
      "source": [
        "Two sample testing digunakan untuk membandingkan apakah terdapat perbedaan nilai rata rata antara kedua grup secara singnifikan atau apakah hanya karena random chance. Metode ini membantu untuk menjawab pertanyaan seperti apakah pelanggan dengan member memiliki pengaruh terhadap Gross Income."
      ]
    },
    {
      "cell_type": "code",
      "metadata": {
        "id": "B-k0hU1jBOO-"
      },
      "source": [
        "dtc_make_smy=dtc_filt.groupby('Customer_type').agg({'Gross_income':['count','mean']}).reset_index()\n",
        "dtc_make_smy.columns = dtc_make_smy.columns.droplevel()"
      ],
      "execution_count": 35,
      "outputs": []
    },
    {
      "cell_type": "code",
      "metadata": {
        "colab": {
          "base_uri": "https://localhost:8080/",
          "height": 112
        },
        "id": "x1w3CDp3Baos",
        "outputId": "ca6ed3c7-7fff-43f0-852b-82696ede121e"
      },
      "source": [
        "dtc_make_smy.sort_values('count',ascending=False).head()"
      ],
      "execution_count": 36,
      "outputs": [
        {
          "output_type": "execute_result",
          "data": {
            "text/html": [
              "<div>\n",
              "<style scoped>\n",
              "    .dataframe tbody tr th:only-of-type {\n",
              "        vertical-align: middle;\n",
              "    }\n",
              "\n",
              "    .dataframe tbody tr th {\n",
              "        vertical-align: top;\n",
              "    }\n",
              "\n",
              "    .dataframe thead th {\n",
              "        text-align: right;\n",
              "    }\n",
              "</style>\n",
              "<table border=\"1\" class=\"dataframe\">\n",
              "  <thead>\n",
              "    <tr style=\"text-align: right;\">\n",
              "      <th></th>\n",
              "      <th></th>\n",
              "      <th>count</th>\n",
              "      <th>mean</th>\n",
              "    </tr>\n",
              "  </thead>\n",
              "  <tbody>\n",
              "    <tr>\n",
              "      <th>0</th>\n",
              "      <td>Member</td>\n",
              "      <td>498</td>\n",
              "      <td>15.406926</td>\n",
              "    </tr>\n",
              "    <tr>\n",
              "      <th>1</th>\n",
              "      <td>Normal</td>\n",
              "      <td>493</td>\n",
              "      <td>14.742556</td>\n",
              "    </tr>\n",
              "  </tbody>\n",
              "</table>\n",
              "</div>"
            ],
            "text/plain": [
              "           count       mean\n",
              "0  Member    498  15.406926\n",
              "1  Normal    493  14.742556"
            ]
          },
          "metadata": {},
          "execution_count": 36
        }
      ]
    },
    {
      "cell_type": "code",
      "metadata": {
        "id": "R15lV8Z2BeLN"
      },
      "source": [
        "dtc_member = dtc_filt[dtc_filt['Customer_type'] == 'Member']\n",
        "dtc_normal = dtc_filt[dtc_filt['Customer_type'] == 'Normal']"
      ],
      "execution_count": 37,
      "outputs": []
    },
    {
      "cell_type": "code",
      "metadata": {
        "colab": {
          "base_uri": "https://localhost:8080/",
          "height": 352
        },
        "id": "PnfjJgIMBwB5",
        "outputId": "9d82ad08-aad5-4c14-d2e0-1e38337134a9"
      },
      "source": [
        "sns.distplot(dtc_member['Gross_income'])"
      ],
      "execution_count": 38,
      "outputs": [
        {
          "output_type": "stream",
          "name": "stderr",
          "text": [
            "/usr/local/lib/python3.7/dist-packages/seaborn/distributions.py:2619: FutureWarning: `distplot` is a deprecated function and will be removed in a future version. Please adapt your code to use either `displot` (a figure-level function with similar flexibility) or `histplot` (an axes-level function for histograms).\n",
            "  warnings.warn(msg, FutureWarning)\n"
          ]
        },
        {
          "output_type": "execute_result",
          "data": {
            "text/plain": [
              "<matplotlib.axes._subplots.AxesSubplot at 0x7f31f00c1790>"
            ]
          },
          "metadata": {},
          "execution_count": 38
        },
        {
          "output_type": "display_data",
          "data": {
            "image/png": "[encoded data removed]",
            "text/plain": [
              "<Figure size 432x288 with 1 Axes>"
            ]
          },
          "metadata": {
            "needs_background": "light"
          }
        }
      ]
    },
    {
      "cell_type": "code",
      "metadata": {
        "colab": {
          "base_uri": "https://localhost:8080/",
          "height": 352
        },
        "id": "yovz7Nj1B4t1",
        "outputId": "35c03971-d137-475d-b988-5b6fcc9c6c01"
      },
      "source": [
        "sns.distplot(dtc_normal['Gross_income'])"
      ],
      "execution_count": 39,
      "outputs": [
        {
          "output_type": "stream",
          "name": "stderr",
          "text": [
            "/usr/local/lib/python3.7/dist-packages/seaborn/distributions.py:2619: FutureWarning: `distplot` is a deprecated function and will be removed in a future version. Please adapt your code to use either `displot` (a figure-level function with similar flexibility) or `histplot` (an axes-level function for histograms).\n",
            "  warnings.warn(msg, FutureWarning)\n"
          ]
        },
        {
          "output_type": "execute_result",
          "data": {
            "text/plain": [
              "<matplotlib.axes._subplots.AxesSubplot at 0x7f31ee04fd90>"
            ]
          },
          "metadata": {},
          "execution_count": 39
        },
        {
          "output_type": "display_data",
          "data": {
            "image/png": "[encoded data removed]",
            "text/plain": [
              "<Figure size 432x288 with 1 Axes>"
            ]
          },
          "metadata": {
            "needs_background": "light"
          }
        }
      ]
    },
    {
      "cell_type": "code",
      "metadata": {
        "colab": {
          "base_uri": "https://localhost:8080/",
          "height": 369
        },
        "id": "kRn7fHGGB8y3",
        "outputId": "f6e60052-5482-4803-c0a1-cf7ab1da376c"
      },
      "source": [
        "np.random.seed(123)\n",
        "nonMath =dtc_member['Gross_income']\n",
        "math = dtc_normal['Gross_income']\n",
        "print(\"Member sample mean:\" + str(nonMath.mean()))\n",
        "print(\"Member sample std:\" + str(nonMath.std()))\n",
        "print(\"Member Kurtosis:\" + str(nonMath.kurtosis()))\n",
        "print(\"Non Member sample mean:\" + str(math.mean()))\n",
        "\n",
        "# Independent T-Test\n",
        "t,p = stats.ttest_ind(math, nonMath,equal_var=False)\n",
        "# ttest_ind is 2-tailed, so half the resulting p-value to get a 1-tailed p-value\n",
        "p1 = '%f' % (p/2)\n",
        "\n",
        "#2-tailed\n",
        "print(\"t-statistic:\" + str(t))\n",
        "print(\"p-value:\" + str(p1))\n",
        "\n",
        "pop = np.random.normal(nonMath.mean(), nonMath.std(), 100000)\n",
        "# calculate a 90% confidence interval. 10% of the probability is outside this, 5% in each tail\n",
        "ci = stats.norm.interval(0.90, nonMath.mean(), nonMath.std())\n",
        "plt.hist(pop, bins=100)\n",
        "# show the hypothesized population mean\n",
        "plt.axvline(pop.mean(), color='yellow', linestyle='dashed', linewidth=2)\n",
        "# show the right-tail confidence interval threshold - 5% of propbability is under the curve to the right of this.\n",
        "plt.axvline(ci[1], color='red', linestyle='dashed', linewidth=2)\n",
        "# show the right-tail confidence interval threshold - 5% of propbability is under the curve to the right of this.\n",
        "plt.axvline(ci[0], color='red', linestyle='dashed', linewidth=2)\n",
        "# show the t-statistic - the p-value is the area under the curve to the right of this\n",
        "plt.axvline(pop.mean() +  t*pop.std(), color='magenta', linestyle='dashed', linewidth=2)\n",
        "plt.show()"
      ],
      "execution_count": 40,
      "outputs": [
        {
          "output_type": "stream",
          "name": "stdout",
          "text": [
            "Member sample mean:15.406925702811247\n",
            "Member sample std:11.55240693250141\n",
            "Member Kurtosis:-0.30543442158994694\n",
            "Non Member sample mean:14.742555780933067\n",
            "t-statistic:-0.9239383869237462\n",
            "p-value:0.177872\n"
          ]
        },
        {
          "output_type": "display_data",
          "data": {
            "image/png": "[encoded data removed]",
            "text/plain": [
              "<Figure size 432x288 with 1 Axes>"
            ]
          },
          "metadata": {
            "needs_background": "light"
          }
        }
      ]
    },
    {
      "cell_type": "markdown",
      "metadata": {
        "id": "M2SLstNCGYfX"
      },
      "source": [
        "Hipotesis nol (H0) adalah bahwa nilai rata-rata populasi untuk pelanggan kategori member kurang dari nilai rata-rata populasi untuk pelanggan non-member (normal), dan sampel ini memiliki arti jika pelanggan non-member lebih tinggi dari pada rata-rata sampel untuk pelanggan member, dapat dijelaskan secara acak dalam pemilihan sampel.\n",
        "\n",
        "\n",
        "Hipotesis alternatif (H1) adalah bahwa nilai rata-rata populasi pelanggan untuk kategori member lebih besar dari nilai rata-rata untuk populasi pelanggan Non-member.\n",
        "\n",
        "> H0 = V1 <= V2\n",
        "\n",
        "> H1 = V1 > V2\n",
        "\n",
        "> V1 = MEMBER\n",
        "\n",
        "> V2 = NON MEMBER\n",
        "\n",
        "Ini menunjukkan bahwa hipotesis tidak memiliki cukup bukti untuk mengatakan bahwa pelanggan member memiliki nilai rata-rata yang lebih tinggi daripada pelanggan Non member, jadi H1 ditolak."
      ]
    },
    {
      "cell_type": "markdown",
      "metadata": {
        "id": "H0uxubzSK2db"
      },
      "source": [
        "##**TWO SAMPLE TESTING :**\n",
        "\n",
        "(Male vs Female)"
      ]
    },
    {
      "cell_type": "code",
      "metadata": {
        "id": "a2v4ZeaZGXzP"
      },
      "source": [
        "dtc_make_smy=dtc_filt.groupby('Gender').agg({'Gross_income':['count','mean']}).reset_index()\n",
        "dtc_make_smy.columns = dtc_make_smy.columns.droplevel()"
      ],
      "execution_count": 41,
      "outputs": []
    },
    {
      "cell_type": "code",
      "metadata": {
        "colab": {
          "base_uri": "https://localhost:8080/",
          "height": 112
        },
        "id": "647l4W35Ls6k",
        "outputId": "4b923d2f-3ab3-49c6-da7c-682d7f1ba8cc"
      },
      "source": [
        "dtc_make_smy.sort_values('count',ascending=False).head()"
      ],
      "execution_count": 42,
      "outputs": [
        {
          "output_type": "execute_result",
          "data": {
            "text/html": [
              "<div>\n",
              "<style scoped>\n",
              "    .dataframe tbody tr th:only-of-type {\n",
              "        vertical-align: middle;\n",
              "    }\n",
              "\n",
              "    .dataframe tbody tr th {\n",
              "        vertical-align: top;\n",
              "    }\n",
              "\n",
              "    .dataframe thead th {\n",
              "        text-align: right;\n",
              "    }\n",
              "</style>\n",
              "<table border=\"1\" class=\"dataframe\">\n",
              "  <thead>\n",
              "    <tr style=\"text-align: right;\">\n",
              "      <th></th>\n",
              "      <th></th>\n",
              "      <th>count</th>\n",
              "      <th>mean</th>\n",
              "    </tr>\n",
              "  </thead>\n",
              "  <tbody>\n",
              "    <tr>\n",
              "      <th>1</th>\n",
              "      <td>Male</td>\n",
              "      <td>496</td>\n",
              "      <td>14.594585</td>\n",
              "    </tr>\n",
              "    <tr>\n",
              "      <th>0</th>\n",
              "      <td>Female</td>\n",
              "      <td>495</td>\n",
              "      <td>15.559222</td>\n",
              "    </tr>\n",
              "  </tbody>\n",
              "</table>\n",
              "</div>"
            ],
            "text/plain": [
              "           count       mean\n",
              "1    Male    496  14.594585\n",
              "0  Female    495  15.559222"
            ]
          },
          "metadata": {},
          "execution_count": 42
        }
      ]
    },
    {
      "cell_type": "code",
      "metadata": {
        "id": "RI5d-LG8L3o0"
      },
      "source": [
        "dtc_male = dtc_filt[dtc_filt['Gender'] == 'Male']\n",
        "dtc_female = dtc_filt[dtc_filt['Gender'] == 'Female']"
      ],
      "execution_count": 43,
      "outputs": []
    },
    {
      "cell_type": "code",
      "metadata": {
        "colab": {
          "base_uri": "https://localhost:8080/",
          "height": 352
        },
        "id": "JYi5pol5L_Hm",
        "outputId": "245620ba-8623-4d40-93fc-ba9c56c3d729"
      },
      "source": [
        "sns.distplot(dtc_male['Gross_income'])"
      ],
      "execution_count": 44,
      "outputs": [
        {
          "output_type": "stream",
          "name": "stderr",
          "text": [
            "/usr/local/lib/python3.7/dist-packages/seaborn/distributions.py:2619: FutureWarning: `distplot` is a deprecated function and will be removed in a future version. Please adapt your code to use either `displot` (a figure-level function with similar flexibility) or `histplot` (an axes-level function for histograms).\n",
            "  warnings.warn(msg, FutureWarning)\n"
          ]
        },
        {
          "output_type": "execute_result",
          "data": {
            "text/plain": [
              "<matplotlib.axes._subplots.AxesSubplot at 0x7f31eddf4c10>"
            ]
          },
          "metadata": {},
          "execution_count": 44
        },
        {
          "output_type": "display_data",
          "data": {
            "image/png": "[encoded data removed]",
            "text/plain": [
              "<Figure size 432x288 with 1 Axes>"
            ]
          },
          "metadata": {
            "needs_background": "light"
          }
        }
      ]
    },
    {
      "cell_type": "code",
      "metadata": {
        "colab": {
          "base_uri": "https://localhost:8080/",
          "height": 352
        },
        "id": "rvp4pMslMKbN",
        "outputId": "6ee0f98a-7687-4d19-b832-253b1630dd03"
      },
      "source": [
        "sns.distplot(dtc_female['Gross_income'])"
      ],
      "execution_count": 45,
      "outputs": [
        {
          "output_type": "stream",
          "name": "stderr",
          "text": [
            "/usr/local/lib/python3.7/dist-packages/seaborn/distributions.py:2619: FutureWarning: `distplot` is a deprecated function and will be removed in a future version. Please adapt your code to use either `displot` (a figure-level function with similar flexibility) or `histplot` (an axes-level function for histograms).\n",
            "  warnings.warn(msg, FutureWarning)\n"
          ]
        },
        {
          "output_type": "execute_result",
          "data": {
            "text/plain": [
              "<matplotlib.axes._subplots.AxesSubplot at 0x7f31edd2a0d0>"
            ]
          },
          "metadata": {},
          "execution_count": 45
        },
        {
          "output_type": "display_data",
          "data": {
            "image/png": "[encoded data removed]",
            "text/plain": [
              "<Figure size 432x288 with 1 Axes>"
            ]
          },
          "metadata": {
            "needs_background": "light"
          }
        }
      ]
    },
    {
      "cell_type": "code",
      "metadata": {
        "colab": {
          "base_uri": "https://localhost:8080/",
          "height": 369
        },
        "id": "w2sUeIZONj38",
        "outputId": "223950e0-9fbd-467f-a52f-c4f57b5b82b7"
      },
      "source": [
        "np.random.seed(123)\n",
        "math = dtc_male['Gross_income']\n",
        "nonMath =dtc_female['Gross_income']\n",
        "print(\"Female sample mean:\" + str(nonMath.mean()))\n",
        "print(\"Female sample std:\" + str(nonMath.std()))\n",
        "print(\"Female Kurtosis:\" + str(nonMath.kurtosis()))\n",
        "print(\"Male sample mean:\" + str(math.mean()))\n",
        "\n",
        "# Independent T-Test\n",
        "t,p = stats.ttest_ind(math, nonMath,equal_var=False)\n",
        "# ttest_ind is 2-tailed, so half the resulting p-value to get a 1-tailed p-value\n",
        "p1 = '%f' % (p/2)\n",
        "\n",
        "#2-tailed\n",
        "print(\"t-statistic:\" + str(t))\n",
        "print(\"p-value:\" + str(p1))\n",
        "\n",
        "pop = np.random.normal(nonMath.mean(), nonMath.std(), 100000)\n",
        "# calculate a 90% confidence interval. 10% of the probability is outside this, 5% in each tail\n",
        "ci = stats.norm.interval(0.90, nonMath.mean(), nonMath.std())\n",
        "plt.hist(pop, bins=100)\n",
        "# show the hypothesized population mean\n",
        "plt.axvline(pop.mean(), color='yellow', linestyle='dashed', linewidth=2)\n",
        "# show the right-tail confidence interval threshold - 5% of propbability is under the curve to the right of this.\n",
        "plt.axvline(ci[1], color='red', linestyle='dashed', linewidth=2)\n",
        "# show the right-tail confidence interval threshold - 5% of propbability is under the curve to the right of this.\n",
        "plt.axvline(ci[0], color='red', linestyle='dashed', linewidth=2)\n",
        "# show the t-statistic - the p-value is the area under the curve to the right of this\n",
        "plt.axvline(pop.mean() +  t*pop.std(), color='magenta', linestyle='dashed', linewidth=2)\n",
        "plt.show()"
      ],
      "execution_count": 46,
      "outputs": [
        {
          "output_type": "stream",
          "name": "stdout",
          "text": [
            "Female sample mean:15.559222222222227\n",
            "Female sample std:11.376801908092759\n",
            "Female Kurtosis:-0.36427773073639935\n",
            "Male sample mean:14.594584677419359\n",
            "t-statistic:-1.3418813301589028\n",
            "p-value:0.089971\n"
          ]
        },
        {
          "output_type": "display_data",
          "data": {
            "image/png": "[encoded data removed]",
            "text/plain": [
              "<Figure size 432x288 with 1 Axes>"
            ]
          },
          "metadata": {
            "needs_background": "light"
          }
        }
      ]
    },
    {
      "cell_type": "markdown",
      "metadata": {
        "id": "RZ5OTte6OTss"
      },
      "source": [
        "Hipotesis nol (H0) adalah bahwa nilai rata-rata populasi untuk pelanggan wanita kurang dari nilai rata-rata populasi untuk pelanggan laki-laki.\n",
        "\n",
        "Hipotesis alternatif (H1) adalah bahwa nilai rata-rata populasi pelanggan kategori Perempuan yang sebenarnya lebih besar dari nilai rata-rata populasi pelanggan Laki-laki.\n",
        "\n",
        "> H0 = V1 <= V2\n",
        "\n",
        "> H1 = V1 > V2\n",
        "\n",
        "> V1 = Female\n",
        "\n",
        "> V2 = Male\n",
        "\n",
        "Jadi untuk kesimpulan menolak H1 dan menerima H0."
      ]
    },
    {
      "cell_type": "markdown",
      "metadata": {
        "id": "gpZlNe9HWb9N"
      },
      "source": [
        "**Plotting Gross Income menggunakan Violinplot**"
      ]
    },
    {
      "cell_type": "code",
      "metadata": {
        "colab": {
          "base_uri": "https://localhost:8080/",
          "height": 458
        },
        "id": "tC_YR4lqOI-p",
        "outputId": "2578f740-e2f6-49cf-e256-8d47e908e418"
      },
      "source": [
        "plt.figure(figsize=(10, 7))\n",
        "sns.violinplot(x='Customer_type',\n",
        "               y='Gross_income',\n",
        "               hue=\"Gender\",\n",
        "               data=dtc_filt,\n",
        "               palette=\"muted\",\n",
        "               split=True)\n",
        "plt.xlabel('Customer Type')\n",
        "plt.ylabel(\"Groos Income\")\n",
        "plt.title(\"Total Gross Income\")\n",
        "plt.show()"
      ],
      "execution_count": 47,
      "outputs": [
        {
          "output_type": "display_data",
          "data": {
            "image/png": "[encoded data removed]",
            "text/plain": [
              "<Figure size 720x504 with 1 Axes>"
            ]
          },
          "metadata": {
            "needs_background": "light"
          }
        }
      ]
    },
    {
      "cell_type": "markdown",
      "metadata": {
        "id": "9K_T3UdGWjWz"
      },
      "source": [
        "Member dan Non-member memiliki distribusi yang sama bila dilihat berdasarkan pendapatan kotor masing-masing kelompok Gender pelanggan."
      ]
    },
    {
      "cell_type": "markdown",
      "metadata": {
        "id": "nR01tpk1Wx-i"
      },
      "source": [
        "Kesimpulan :\n",
        "\n",
        "* Promosi dapat dilakukan untuk member dan non-member dari setiap gender karena mereka memiliki distribusi yang sama.\n",
        "* Jika ingin menambah jumlah member, masih banyak pelanggan normal (non-member) yang bisa dipengaruhi."
      ]
    },
    {
      "cell_type": "markdown",
      "metadata": {
        "id": "i8anKqyBXiRv"
      },
      "source": [
        "**Menyimpan data yang sudah melalui proses Cleaning dalam bentuk CSV**"
      ]
    },
    {
      "cell_type": "code",
      "metadata": {
        "id": "OWHG4tCvWxt5"
      },
      "source": [
        "dtc_filt.to_csv('supermarket_clean.csv')"
      ],
      "execution_count": 48,
      "outputs": []
    }
  ]
}